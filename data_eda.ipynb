{
  "cells": [
    {
      "cell_type": "code",
      "execution_count": 2,
      "metadata": {
        "id": "Ic6YYo6GwM2Y"
      },
      "outputs": [],
      "source": [
        "import os\n",
        "import pandas as pd\n",
        "import numpy as np\n",
        "import matplotlib.pyplot as plt\n",
        "from matplotlib import pyplot\n",
        "import seaborn as sns\n",
        "\n",
        "import re\n",
        "\n",
        "from sklearn.preprocessing import LabelEncoder\n",
        "# from sklearn.linear_model import LogisticRegression\n",
        "# from sklearn.neighbors import KNeighborsClassifier\n",
        "# from sklearn.svm import SVC\n",
        "# # from catboost import CatBoostClassifier\n",
        "# from sklearn.ensemble import GradientBoostingClassifier\n",
        "# from sklearn.tree import DecisionTreeClassifier\n",
        "# from sklearn.ensemble import RandomForestClassifier\n",
        "# from lightgbm import LGBMClassifier\n",
        "# from xgboost import XGBClassifier\n",
        "# from xgboost import XGBRFClassifier\n",
        "\n",
        "# from sklearn.model_selection import train_test_split\n",
        "\n",
        "# from sklearn.metrics import accuracy_score,recall_score\n",
        "# from sklearn.model_selection import KFold\n",
        "# from sklearn.model_selection import cross_val_score\n"
      ]
    },
    {
      "cell_type": "code",
      "execution_count": 3,
      "metadata": {
        "colab": {
          "base_uri": "https://localhost:8080/"
        },
        "id": "Hw0QW0i6wM2d",
        "outputId": "aef30c9b-2583-4f29-a500-81174588be0a"
      },
      "outputs": [
        {
          "name": "stderr",
          "output_type": "stream",
          "text": [
            "/var/folders/xp/pns_c2r97xn7m5lw5_1_d9q00000gn/T/ipykernel_71551/4118017018.py:4: DtypeWarning: Columns (87) have mixed types. Specify dtype option on import or set low_memory=False.\n",
            "  history_df = pd.read_csv(file_path)\n"
          ]
        }
      ],
      "source": [
        "history_df = pd.DataFrame()\n",
        "file_path = 'history.csv'\n",
        "if os.path.isfile(file_path) and os.path.getsize(file_path) > 0:\n",
        "    history_df = pd.read_csv(file_path)\n",
        "else:\n",
        "    print(\"Error: The file is empty or does not exist.\")"
      ]
    },
    {
      "cell_type": "code",
      "execution_count": 4,
      "metadata": {
        "id": "z2HLeWm5wM2k"
      },
      "outputs": [],
      "source": [
        "'''\n",
        "@param df: A pandas DataFrame\n",
        "@param cols: List of columns existing in df\n",
        "@return: df with cols dropped\n",
        "'''\n",
        "def drop_cols(df, cols):\n",
        "    df = df.drop(cols, axis=1)\n",
        "    return df"
      ]
    },
    {
      "cell_type": "code",
      "execution_count": 5,
      "metadata": {
        "id": "EHnXHziiwM2p"
      },
      "outputs": [],
      "source": [
        "'''\n",
        "@param df: A pandas DataFrame\n",
        "@param cols: List of boolean columns in df\n",
        "@return: df with the values in cols mapped to 0 (for False or blank) or 1 (for True)\n",
        "'''\n",
        "def boolean_map(df, cols):\n",
        "    for col in cols:\n",
        "        df[col] = df[col].fillna('f').map({'t': 1, 'f': 0})\n",
        "    return df"
      ]
    },
    {
      "cell_type": "code",
      "execution_count": 6,
      "metadata": {
        "id": "4AVLO8pCwM2x"
      },
      "outputs": [],
      "source": [
        "'''\n",
        "@param df: A pandas DataFrame\n",
        "@param cols: List of datetime columns in df\n",
        "@return: df with the values in cols standardized to a number between 0 and 1.\n",
        "'''\n",
        "def parse_time(df, cols):\n",
        "    for col in cols:\n",
        "        df[col] = pd.to_datetime(df[col])\n",
        "        min_date = df[col].min()\n",
        "        df[col] = df[col].fillna(min_date)\n",
        "\n",
        "        df[col] = df[col].astype(int)\n",
        "        min = df[col].min()\n",
        "        max = df[col].max()\n",
        "        df[col] = (df[col] - min) / (max - min)\n",
        "\n",
        "    return df"
      ]
    },
    {
      "cell_type": "code",
      "execution_count": 7,
      "metadata": {
        "id": "CN_FjYzGwM21"
      },
      "outputs": [],
      "source": [
        "'''\n",
        "@param df: A pandas DataFrame\n",
        "@param cols: List of object columns in df\n",
        "@return: df with the values in cols mapped to arbitrary numbers\n",
        "'''\n",
        "def encode_labels(df, cols):\n",
        "    label_encoder = LabelEncoder()\n",
        "    for col in cols:\n",
        "        df[col] = label_encoder.fit_transform(df[col])\n",
        "\n",
        "    return df\n"
      ]
    },
    {
      "cell_type": "code",
      "execution_count": 8,
      "metadata": {},
      "outputs": [],
      "source": [
        "'''\n",
        "@param df: A pandas DataFrame\n",
        "@param cols: List of object columns in df\n",
        "@return: df with the values in cols mapped to arbitrary numbers\n",
        "'''\n",
        "def encode_labels(df, cols):\n",
        "    label_encoder = LabelEncoder()\n",
        "    for col in cols:\n",
        "       \n",
        "        df[col] = df[col].fillna('missing')\n",
        "\n",
        "        valid_data = df[col][df[col] != 'missing']\n",
        "        label_encoder.fit(valid_data)\n",
        "\n",
        "        df.loc[df[col] != 'missing', col] = label_encoder.transform(df[df[col] != 'missing'][col])\n",
        "\n",
        "        df[col] = df[col].replace('missing', -999).astype(int)\n",
        "\n",
        "    return df"
      ]
    },
    {
      "cell_type": "markdown",
      "metadata": {
        "id": "fOotRNi8wM24"
      },
      "source": [
        "### 1.0 Drop unused columns\n",
        "\n",
        "We do not want our model to be trained on data from any of these columns. The code looks a bit messy because we did this step in different ways."
      ]
    },
    {
      "cell_type": "code",
      "execution_count": 9,
      "metadata": {
        "colab": {
          "base_uri": "https://localhost:8080/",
          "height": 245
        },
        "id": "kYMp6NY8wM3I",
        "outputId": "1ef1e1b9-d88b-44c8-f83f-79acdeac2826"
      },
      "outputs": [
        {
          "data": {
            "text/html": [
              "<div>\n",
              "<style scoped>\n",
              "    .dataframe tbody tr th:only-of-type {\n",
              "        vertical-align: middle;\n",
              "    }\n",
              "\n",
              "    .dataframe tbody tr th {\n",
              "        vertical-align: top;\n",
              "    }\n",
              "\n",
              "    .dataframe thead th {\n",
              "        text-align: right;\n",
              "    }\n",
              "</style>\n",
              "<table border=\"1\" class=\"dataframe\">\n",
              "  <thead>\n",
              "    <tr style=\"text-align: right;\">\n",
              "      <th></th>\n",
              "      <th>id</th>\n",
              "      <th>type_code</th>\n",
              "      <th>class_id</th>\n",
              "      <th>inception_date</th>\n",
              "      <th>branch</th>\n",
              "      <th>include_client_consolidation</th>\n",
              "      <th>use_client_address</th>\n",
              "      <th>credit_limit_type</th>\n",
              "      <th>is_arp_locked</th>\n",
              "      <th>dividend_confirm_code</th>\n",
              "      <th>...</th>\n",
              "      <th>is_family_resp</th>\n",
              "      <th>is_hrdc_resp</th>\n",
              "      <th>resp_specimen_plan</th>\n",
              "      <th>inserted_at</th>\n",
              "      <th>updated_at</th>\n",
              "      <th>is_olob</th>\n",
              "      <th>retail_last_maintenance_time</th>\n",
              "      <th>retail_last_maintenance_user</th>\n",
              "      <th>visible_in_reports</th>\n",
              "      <th>label</th>\n",
              "    </tr>\n",
              "  </thead>\n",
              "  <tbody>\n",
              "    <tr>\n",
              "      <th>0</th>\n",
              "      <td>893724</td>\n",
              "      <td>CASH SWEEP</td>\n",
              "      <td>3.0</td>\n",
              "      <td>2017-08-18</td>\n",
              "      <td>IAVM</td>\n",
              "      <td>t</td>\n",
              "      <td>f</td>\n",
              "      <td>0.0</td>\n",
              "      <td>NaN</td>\n",
              "      <td>0.0</td>\n",
              "      <td>...</td>\n",
              "      <td>NaN</td>\n",
              "      <td>NaN</td>\n",
              "      <td>NaN</td>\n",
              "      <td>2023-05-30 14:20:18.531115+00</td>\n",
              "      <td>2023-08-08 18:53:01.439561+00</td>\n",
              "      <td>f</td>\n",
              "      <td>NaN</td>\n",
              "      <td>NaN</td>\n",
              "      <td>f</td>\n",
              "      <td>Churn</td>\n",
              "    </tr>\n",
              "    <tr>\n",
              "      <th>1</th>\n",
              "      <td>1268094</td>\n",
              "      <td>RRIF</td>\n",
              "      <td>5.0</td>\n",
              "      <td>2018-11-08</td>\n",
              "      <td>IAVM</td>\n",
              "      <td>t</td>\n",
              "      <td>t</td>\n",
              "      <td>0.0</td>\n",
              "      <td>f</td>\n",
              "      <td>0.0</td>\n",
              "      <td>...</td>\n",
              "      <td>f</td>\n",
              "      <td>f</td>\n",
              "      <td>NaN</td>\n",
              "      <td>2023-05-30 14:20:18.531115+00</td>\n",
              "      <td>2023-08-10 21:47:25.370403+00</td>\n",
              "      <td>f</td>\n",
              "      <td>2023-01-03 00:00:00</td>\n",
              "      <td>BATCH</td>\n",
              "      <td>t</td>\n",
              "      <td>Churn</td>\n",
              "    </tr>\n",
              "    <tr>\n",
              "      <th>2</th>\n",
              "      <td>606613</td>\n",
              "      <td>SPOUSAL RRSP</td>\n",
              "      <td>5.0</td>\n",
              "      <td>2009-04-08</td>\n",
              "      <td>IAVM</td>\n",
              "      <td>f</td>\n",
              "      <td>f</td>\n",
              "      <td>0.0</td>\n",
              "      <td>f</td>\n",
              "      <td>0.0</td>\n",
              "      <td>...</td>\n",
              "      <td>f</td>\n",
              "      <td>f</td>\n",
              "      <td>NaN</td>\n",
              "      <td>2023-05-30 14:20:18.531115+00</td>\n",
              "      <td>2023-08-10 21:47:25.370403+00</td>\n",
              "      <td>f</td>\n",
              "      <td>2018-07-17 00:00:00</td>\n",
              "      <td>GUERINO</td>\n",
              "      <td>f</td>\n",
              "      <td>Churn</td>\n",
              "    </tr>\n",
              "  </tbody>\n",
              "</table>\n",
              "<p>3 rows × 60 columns</p>\n",
              "</div>"
            ],
            "text/plain": [
              "        id     type_code  class_id inception_date branch  \\\n",
              "0   893724    CASH SWEEP       3.0     2017-08-18   IAVM   \n",
              "1  1268094          RRIF       5.0     2018-11-08   IAVM   \n",
              "2   606613  SPOUSAL RRSP       5.0     2009-04-08   IAVM   \n",
              "\n",
              "  include_client_consolidation use_client_address  credit_limit_type  \\\n",
              "0                            t                  f                0.0   \n",
              "1                            t                  t                0.0   \n",
              "2                            f                  f                0.0   \n",
              "\n",
              "  is_arp_locked  dividend_confirm_code  ...  is_family_resp  is_hrdc_resp  \\\n",
              "0           NaN                    0.0  ...             NaN           NaN   \n",
              "1             f                    0.0  ...               f             f   \n",
              "2             f                    0.0  ...               f             f   \n",
              "\n",
              "   resp_specimen_plan                    inserted_at  \\\n",
              "0                 NaN  2023-05-30 14:20:18.531115+00   \n",
              "1                 NaN  2023-05-30 14:20:18.531115+00   \n",
              "2                 NaN  2023-05-30 14:20:18.531115+00   \n",
              "\n",
              "                      updated_at is_olob retail_last_maintenance_time  \\\n",
              "0  2023-08-08 18:53:01.439561+00       f                          NaN   \n",
              "1  2023-08-10 21:47:25.370403+00       f          2023-01-03 00:00:00   \n",
              "2  2023-08-10 21:47:25.370403+00       f          2018-07-17 00:00:00   \n",
              "\n",
              "  retail_last_maintenance_user visible_in_reports  label  \n",
              "0                          NaN                  f  Churn  \n",
              "1                        BATCH                  t  Churn  \n",
              "2                      GUERINO                  f  Churn  \n",
              "\n",
              "[3 rows x 60 columns]"
            ]
          },
          "execution_count": 9,
          "metadata": {},
          "output_type": "execute_result"
        }
      ],
      "source": [
        "df_nathan = history_df[['id', 'type_code', 'class_id', 'inception_date', 'branch', 'include_client_consolidation', 'use_client_address', 'credit_limit_type', 'is_arp_locked', 'dividend_confirm_code']]\n",
        "\n",
        "df_cloris = history_df[['options_trading_type', 'interest_dividend_conversion_type', 'guarantee_gtor_type', 'share_name_address_to_issuer', 'shareholder_instructions_received', 'is_tms_eligible', 'is_agent_bbs_participant', 'is_spousal_transfer', 'terminal_code', 'deceased_fair_market_value', 'discretionary_trading_authorized']]\n",
        "\n",
        "df_cherry = history_df.iloc[:, 52:79]\n",
        "df_cherry = drop_cols(df_cherry, ['esir_number', 'dup_trip_quad_code', 'function_code', 'portfolio_cost_method','shareholder_language', 'interactive_portfolio_code', 'title', 'non_plan_book_value_flag', 'conjunction', 'portfolio_name_address_option', 'portfolio_summary_option'])\n",
        "\n",
        "df_matthew = history_df.iloc[:, -27:]\n",
        "df_matthew = drop_cols(df_matthew, ['is_broker_account', 'is_gl_account', 'is_control_account', 'is_plan_grandfathered'])\n",
        "\n",
        "training_df = pd.concat([df_nathan, df_cloris, df_cherry, df_matthew], axis=1)\n",
        "training_df.head(3)"
      ]
    },
    {
      "cell_type": "markdown",
      "metadata": {
        "id": "HjdHfOREwM3R"
      },
      "source": [
        "### 1.1 Map Boolean Columns"
      ]
    },
    {
      "cell_type": "code",
      "execution_count": 10,
      "metadata": {
        "id": "XNhVgptHwM3X"
      },
      "outputs": [],
      "source": [
        "bool_nathan = ['include_client_consolidation', 'use_client_address', 'is_arp_locked']\n",
        "bool_cloris = ['share_name_address_to_issuer', 'shareholder_instructions_received', 'is_tms_eligible', 'is_agent_bbs_participant', 'is_spousal_transfer', 'discretionary_trading_authorized']\n",
        "bool_cherry = ['receive_general_mailings', 'has_discrete_auth', 'is_non_objecting_beneficial_owner', 'is_objecting_to_disclose_info', 'consent_to_email_delivery', 'consent_to_pay_for_mail', 'has_received_instruction']\n",
        "bool_matthew = ['is_inventory_account', 'is_extract_eligible', 'is_pledged', 'is_resp', 'is_family_resp', 'is_hrdc_resp'] + ['is_olob', 'visible_in_reports', 'use_original_date_for_payment_calc']\n",
        "\n",
        "training_df = boolean_map(training_df, bool_nathan + bool_cloris + bool_cherry + bool_matthew)"
      ]
    },
    {
      "cell_type": "markdown",
      "metadata": {
        "id": "sR2IlP2RwM3b"
      },
      "source": [
        "### 1.2 Parse Datetime Columns"
      ]
    },
    {
      "cell_type": "code",
      "execution_count": 11,
      "metadata": {
        "id": "I3ZHeWyVwM3c"
      },
      "outputs": [],
      "source": [
        "time_nathan = ['inception_date']\n",
        "time_cherry = ['last_update_date']\n",
        "time_matthew = ['last_maintenance_time', 'plan_effective_date', 'plan_end_date', 'rrif_original_date', 'inserted_at', 'updated_at', 'retail_last_maintenance_time']\n",
        "\n",
        "training_df = parse_time(training_df, time_nathan + time_cherry + time_matthew)"
      ]
    },
    {
      "cell_type": "markdown",
      "metadata": {
        "id": "lRTBr9N9wM3e"
      },
      "source": [
        "### 1.3 Numerize Type Columns"
      ]
    },
    {
      "cell_type": "code",
      "execution_count": 12,
      "metadata": {},
      "outputs": [
        {
          "data": {
            "text/html": [
              "<div>\n",
              "<style scoped>\n",
              "    .dataframe tbody tr th:only-of-type {\n",
              "        vertical-align: middle;\n",
              "    }\n",
              "\n",
              "    .dataframe tbody tr th {\n",
              "        vertical-align: top;\n",
              "    }\n",
              "\n",
              "    .dataframe thead th {\n",
              "        text-align: right;\n",
              "    }\n",
              "</style>\n",
              "<table border=\"1\" class=\"dataframe\">\n",
              "  <thead>\n",
              "    <tr style=\"text-align: right;\">\n",
              "      <th></th>\n",
              "      <th>id</th>\n",
              "      <th>type_code</th>\n",
              "      <th>class_id</th>\n",
              "      <th>inception_date</th>\n",
              "      <th>branch</th>\n",
              "      <th>include_client_consolidation</th>\n",
              "      <th>use_client_address</th>\n",
              "      <th>credit_limit_type</th>\n",
              "      <th>is_arp_locked</th>\n",
              "      <th>dividend_confirm_code</th>\n",
              "      <th>...</th>\n",
              "      <th>label</th>\n",
              "      <th>Low</th>\n",
              "      <th>Medium</th>\n",
              "      <th>Medium-High</th>\n",
              "      <th>High</th>\n",
              "      <th>Income</th>\n",
              "      <th>Growth</th>\n",
              "      <th>Speculative</th>\n",
              "      <th>Liquidity</th>\n",
              "      <th>Safety</th>\n",
              "    </tr>\n",
              "  </thead>\n",
              "  <tbody>\n",
              "    <tr>\n",
              "      <th>0</th>\n",
              "      <td>893724</td>\n",
              "      <td>CASH SWEEP</td>\n",
              "      <td>3.0</td>\n",
              "      <td>0.808752</td>\n",
              "      <td>IAVM</td>\n",
              "      <td>1</td>\n",
              "      <td>0</td>\n",
              "      <td>0.0</td>\n",
              "      <td>0</td>\n",
              "      <td>0.0</td>\n",
              "      <td>...</td>\n",
              "      <td>Churn</td>\n",
              "      <td>0</td>\n",
              "      <td>0</td>\n",
              "      <td>0</td>\n",
              "      <td>0</td>\n",
              "      <td>0</td>\n",
              "      <td>0</td>\n",
              "      <td>0</td>\n",
              "      <td>0</td>\n",
              "      <td>0</td>\n",
              "    </tr>\n",
              "    <tr>\n",
              "      <th>1</th>\n",
              "      <td>1268094</td>\n",
              "      <td>RRIF</td>\n",
              "      <td>5.0</td>\n",
              "      <td>0.847716</td>\n",
              "      <td>IAVM</td>\n",
              "      <td>1</td>\n",
              "      <td>1</td>\n",
              "      <td>0.0</td>\n",
              "      <td>0</td>\n",
              "      <td>0.0</td>\n",
              "      <td>...</td>\n",
              "      <td>Churn</td>\n",
              "      <td>0</td>\n",
              "      <td>90</td>\n",
              "      <td>0</td>\n",
              "      <td>10</td>\n",
              "      <td>5</td>\n",
              "      <td>85</td>\n",
              "      <td>10</td>\n",
              "      <td>0</td>\n",
              "      <td>0</td>\n",
              "    </tr>\n",
              "    <tr>\n",
              "      <th>2</th>\n",
              "      <td>606613</td>\n",
              "      <td>SPOUSAL RRSP</td>\n",
              "      <td>5.0</td>\n",
              "      <td>0.542538</td>\n",
              "      <td>IAVM</td>\n",
              "      <td>0</td>\n",
              "      <td>0</td>\n",
              "      <td>0.0</td>\n",
              "      <td>0</td>\n",
              "      <td>0.0</td>\n",
              "      <td>...</td>\n",
              "      <td>Churn</td>\n",
              "      <td>0</td>\n",
              "      <td>50</td>\n",
              "      <td>0</td>\n",
              "      <td>50</td>\n",
              "      <td>0</td>\n",
              "      <td>50</td>\n",
              "      <td>50</td>\n",
              "      <td>0</td>\n",
              "      <td>0</td>\n",
              "    </tr>\n",
              "    <tr>\n",
              "      <th>3</th>\n",
              "      <td>741930</td>\n",
              "      <td>CASH</td>\n",
              "      <td>3.0</td>\n",
              "      <td>0.916405</td>\n",
              "      <td>IAVM</td>\n",
              "      <td>1</td>\n",
              "      <td>1</td>\n",
              "      <td>0.0</td>\n",
              "      <td>0</td>\n",
              "      <td>0.0</td>\n",
              "      <td>...</td>\n",
              "      <td>Churn</td>\n",
              "      <td>0</td>\n",
              "      <td>99</td>\n",
              "      <td>0</td>\n",
              "      <td>0</td>\n",
              "      <td>0</td>\n",
              "      <td>99</td>\n",
              "      <td>0</td>\n",
              "      <td>0</td>\n",
              "      <td>0</td>\n",
              "    </tr>\n",
              "    <tr>\n",
              "      <th>4</th>\n",
              "      <td>1137922</td>\n",
              "      <td>CASH</td>\n",
              "      <td>3.0</td>\n",
              "      <td>0.806311</td>\n",
              "      <td>IAVM</td>\n",
              "      <td>1</td>\n",
              "      <td>0</td>\n",
              "      <td>0.0</td>\n",
              "      <td>0</td>\n",
              "      <td>0.0</td>\n",
              "      <td>...</td>\n",
              "      <td>Churn</td>\n",
              "      <td>0</td>\n",
              "      <td>99</td>\n",
              "      <td>0</td>\n",
              "      <td>0</td>\n",
              "      <td>0</td>\n",
              "      <td>99</td>\n",
              "      <td>0</td>\n",
              "      <td>0</td>\n",
              "      <td>0</td>\n",
              "    </tr>\n",
              "  </tbody>\n",
              "</table>\n",
              "<p>5 rows × 67 columns</p>\n",
              "</div>"
            ],
            "text/plain": [
              "        id     type_code  class_id  inception_date branch  \\\n",
              "0   893724    CASH SWEEP       3.0        0.808752   IAVM   \n",
              "1  1268094          RRIF       5.0        0.847716   IAVM   \n",
              "2   606613  SPOUSAL RRSP       5.0        0.542538   IAVM   \n",
              "3   741930          CASH       3.0        0.916405   IAVM   \n",
              "4  1137922          CASH       3.0        0.806311   IAVM   \n",
              "\n",
              "   include_client_consolidation  use_client_address  credit_limit_type  \\\n",
              "0                             1                   0                0.0   \n",
              "1                             1                   1                0.0   \n",
              "2                             0                   0                0.0   \n",
              "3                             1                   1                0.0   \n",
              "4                             1                   0                0.0   \n",
              "\n",
              "   is_arp_locked  dividend_confirm_code  ...  label  Low  Medium  Medium-High  \\\n",
              "0              0                    0.0  ...  Churn    0       0            0   \n",
              "1              0                    0.0  ...  Churn    0      90            0   \n",
              "2              0                    0.0  ...  Churn    0      50            0   \n",
              "3              0                    0.0  ...  Churn    0      99            0   \n",
              "4              0                    0.0  ...  Churn    0      99            0   \n",
              "\n",
              "   High  Income  Growth  Speculative Liquidity  Safety  \n",
              "0     0       0       0            0         0       0  \n",
              "1    10       5      85           10         0       0  \n",
              "2    50       0      50           50         0       0  \n",
              "3     0       0      99            0         0       0  \n",
              "4     0       0      99            0         0       0  \n",
              "\n",
              "[5 rows x 67 columns]"
            ]
          },
          "execution_count": 12,
          "metadata": {},
          "output_type": "execute_result"
        }
      ],
      "source": [
        "#cherry further cleaning\n",
        "training_df['special_tag'] = training_df['special_tag'].replace('NOT FOUND', np.nan)\n",
        "\n",
        "def parse_risk_tolerance(rt_string):\n",
        "    parts = re.findall(r'([L|M|Q|H])(\\d{2})', rt_string)\n",
        "    rt_dict = {'Low': 0, 'Medium': 0, 'Medium-High': 0, 'High': 0}\n",
        "    for part in parts:\n",
        "        if part[0] == 'L':\n",
        "            rt_dict['Low'] = int(part[1])\n",
        "        elif part[0] == 'M':\n",
        "            rt_dict['Medium'] = int(part[1])\n",
        "        elif part[0] == 'Q':\n",
        "            rt_dict['Medium-High'] = int(part[1])\n",
        "        elif part[0] == 'H':\n",
        "            rt_dict['High'] = int(part[1])\n",
        "    return rt_dict\n",
        "\n",
        "def parse_investment_objective(io_string):\n",
        "    parts = re.findall(r'([B|C|D|G|M|S|X])(\\d{2})', io_string)\n",
        "    io_dict = {'Income': 0, 'Growth': 0, 'Speculative': 0, 'Liquidity': 0, 'Safety': 0}\n",
        "    for part in parts:\n",
        "        if part[0] == 'B':\n",
        "            io_dict['Income'] = int(part[1])\n",
        "        elif part[0] == 'C' or part[0] == 'G':\n",
        "            io_dict['Growth'] += int(part[1])\n",
        "        elif part[0] == 'D' or part[0] == 'S':\n",
        "            io_dict['Speculative'] += int(part[1])\n",
        "        elif part[0] == 'M':\n",
        "            io_dict['Liquidity'] = int(part[1])\n",
        "        elif part[0] == 'X':\n",
        "            io_dict['Safety'] = int(part[1])\n",
        "    return io_dict\n",
        "\n",
        "training_df['risk_tolerance'] = training_df['risk_tolerance'].astype(str).apply(parse_risk_tolerance)\n",
        "training_df['investment_objective'] = training_df['investment_objective'].astype(str).apply(parse_investment_objective)\n",
        "\n",
        "rt_columns = ['Low', 'Medium', 'Medium-High', 'High']\n",
        "io_columns = ['Income', 'Growth', 'Speculative', 'Liquidity', 'Safety']\n",
        "\n",
        "for col in rt_columns:\n",
        "    training_df[col] = training_df['risk_tolerance'].apply(lambda x: x[col])\n",
        "\n",
        "for col in io_columns:\n",
        "    training_df[col] = training_df['investment_objective'].apply(lambda x: x[col])\n",
        "\n",
        "training_df.drop(['risk_tolerance', 'investment_objective'], axis=1, inplace=True)\n",
        "training_df.head()"
      ]
    },
    {
      "cell_type": "code",
      "execution_count": 13,
      "metadata": {
        "id": "BXJ-fKrHwM3f"
      },
      "outputs": [],
      "source": [
        "type_nathan = ['type_code', 'branch']\n",
        "type_cloris = ['terminal_code'] \n",
        "type_matthew = ['last_maintenance_user', 'retail_last_maintenance_user']\n",
        "type_cherry = ['iso_funds_code', 'special_tag', 'tms_settlement_location', 'portfolio_report_option', 'loan_limit_override']\n",
        "\n",
        "training_df = encode_labels(training_df, type_nathan + type_cloris + type_matthew + type_cherry)"
      ]
    },
    {
      "cell_type": "markdown",
      "metadata": {
        "id": "6DmdRSp4wM3g"
      },
      "source": [
        "### 1.4 Other"
      ]
    },
    {
      "cell_type": "code",
      "execution_count": 14,
      "metadata": {
        "id": "3vTY3FY5wM3g"
      },
      "outputs": [
        {
          "data": {
            "text/html": [
              "<div>\n",
              "<style scoped>\n",
              "    .dataframe tbody tr th:only-of-type {\n",
              "        vertical-align: middle;\n",
              "    }\n",
              "\n",
              "    .dataframe tbody tr th {\n",
              "        vertical-align: top;\n",
              "    }\n",
              "\n",
              "    .dataframe thead th {\n",
              "        text-align: right;\n",
              "    }\n",
              "</style>\n",
              "<table border=\"1\" class=\"dataframe\">\n",
              "  <thead>\n",
              "    <tr style=\"text-align: right;\">\n",
              "      <th></th>\n",
              "      <th>id</th>\n",
              "      <th>type_code</th>\n",
              "      <th>class_id</th>\n",
              "      <th>inception_date</th>\n",
              "      <th>branch</th>\n",
              "      <th>include_client_consolidation</th>\n",
              "      <th>use_client_address</th>\n",
              "      <th>credit_limit_type</th>\n",
              "      <th>is_arp_locked</th>\n",
              "      <th>dividend_confirm_code</th>\n",
              "      <th>...</th>\n",
              "      <th>label</th>\n",
              "      <th>Low</th>\n",
              "      <th>Medium</th>\n",
              "      <th>Medium-High</th>\n",
              "      <th>High</th>\n",
              "      <th>Income</th>\n",
              "      <th>Growth</th>\n",
              "      <th>Speculative</th>\n",
              "      <th>Liquidity</th>\n",
              "      <th>Safety</th>\n",
              "    </tr>\n",
              "  </thead>\n",
              "  <tbody>\n",
              "    <tr>\n",
              "      <th>0</th>\n",
              "      <td>893724</td>\n",
              "      <td>1</td>\n",
              "      <td>3.0</td>\n",
              "      <td>0.808752</td>\n",
              "      <td>5</td>\n",
              "      <td>1</td>\n",
              "      <td>0</td>\n",
              "      <td>0.0</td>\n",
              "      <td>0</td>\n",
              "      <td>0.0</td>\n",
              "      <td>...</td>\n",
              "      <td>1</td>\n",
              "      <td>0</td>\n",
              "      <td>0</td>\n",
              "      <td>0</td>\n",
              "      <td>0</td>\n",
              "      <td>0</td>\n",
              "      <td>0</td>\n",
              "      <td>0</td>\n",
              "      <td>0</td>\n",
              "      <td>0</td>\n",
              "    </tr>\n",
              "    <tr>\n",
              "      <th>1</th>\n",
              "      <td>1268094</td>\n",
              "      <td>15</td>\n",
              "      <td>5.0</td>\n",
              "      <td>0.847716</td>\n",
              "      <td>5</td>\n",
              "      <td>1</td>\n",
              "      <td>1</td>\n",
              "      <td>0.0</td>\n",
              "      <td>0</td>\n",
              "      <td>0.0</td>\n",
              "      <td>...</td>\n",
              "      <td>1</td>\n",
              "      <td>0</td>\n",
              "      <td>90</td>\n",
              "      <td>0</td>\n",
              "      <td>10</td>\n",
              "      <td>5</td>\n",
              "      <td>85</td>\n",
              "      <td>10</td>\n",
              "      <td>0</td>\n",
              "      <td>0</td>\n",
              "    </tr>\n",
              "    <tr>\n",
              "      <th>2</th>\n",
              "      <td>606613</td>\n",
              "      <td>18</td>\n",
              "      <td>5.0</td>\n",
              "      <td>0.542538</td>\n",
              "      <td>5</td>\n",
              "      <td>0</td>\n",
              "      <td>0</td>\n",
              "      <td>0.0</td>\n",
              "      <td>0</td>\n",
              "      <td>0.0</td>\n",
              "      <td>...</td>\n",
              "      <td>1</td>\n",
              "      <td>0</td>\n",
              "      <td>50</td>\n",
              "      <td>0</td>\n",
              "      <td>50</td>\n",
              "      <td>0</td>\n",
              "      <td>50</td>\n",
              "      <td>50</td>\n",
              "      <td>0</td>\n",
              "      <td>0</td>\n",
              "    </tr>\n",
              "    <tr>\n",
              "      <th>3</th>\n",
              "      <td>741930</td>\n",
              "      <td>0</td>\n",
              "      <td>3.0</td>\n",
              "      <td>0.916405</td>\n",
              "      <td>5</td>\n",
              "      <td>1</td>\n",
              "      <td>1</td>\n",
              "      <td>0.0</td>\n",
              "      <td>0</td>\n",
              "      <td>0.0</td>\n",
              "      <td>...</td>\n",
              "      <td>1</td>\n",
              "      <td>0</td>\n",
              "      <td>99</td>\n",
              "      <td>0</td>\n",
              "      <td>0</td>\n",
              "      <td>0</td>\n",
              "      <td>99</td>\n",
              "      <td>0</td>\n",
              "      <td>0</td>\n",
              "      <td>0</td>\n",
              "    </tr>\n",
              "    <tr>\n",
              "      <th>4</th>\n",
              "      <td>1137922</td>\n",
              "      <td>0</td>\n",
              "      <td>3.0</td>\n",
              "      <td>0.806311</td>\n",
              "      <td>5</td>\n",
              "      <td>1</td>\n",
              "      <td>0</td>\n",
              "      <td>0.0</td>\n",
              "      <td>0</td>\n",
              "      <td>0.0</td>\n",
              "      <td>...</td>\n",
              "      <td>1</td>\n",
              "      <td>0</td>\n",
              "      <td>99</td>\n",
              "      <td>0</td>\n",
              "      <td>0</td>\n",
              "      <td>0</td>\n",
              "      <td>99</td>\n",
              "      <td>0</td>\n",
              "      <td>0</td>\n",
              "      <td>0</td>\n",
              "    </tr>\n",
              "    <tr>\n",
              "      <th>...</th>\n",
              "      <td>...</td>\n",
              "      <td>...</td>\n",
              "      <td>...</td>\n",
              "      <td>...</td>\n",
              "      <td>...</td>\n",
              "      <td>...</td>\n",
              "      <td>...</td>\n",
              "      <td>...</td>\n",
              "      <td>...</td>\n",
              "      <td>...</td>\n",
              "      <td>...</td>\n",
              "      <td>...</td>\n",
              "      <td>...</td>\n",
              "      <td>...</td>\n",
              "      <td>...</td>\n",
              "      <td>...</td>\n",
              "      <td>...</td>\n",
              "      <td>...</td>\n",
              "      <td>...</td>\n",
              "      <td>...</td>\n",
              "      <td>...</td>\n",
              "    </tr>\n",
              "    <tr>\n",
              "      <th>673334</th>\n",
              "      <td>6827067</td>\n",
              "      <td>8</td>\n",
              "      <td>5.0</td>\n",
              "      <td>0.995206</td>\n",
              "      <td>2</td>\n",
              "      <td>1</td>\n",
              "      <td>1</td>\n",
              "      <td>0.0</td>\n",
              "      <td>1</td>\n",
              "      <td>0.0</td>\n",
              "      <td>...</td>\n",
              "      <td>1</td>\n",
              "      <td>0</td>\n",
              "      <td>99</td>\n",
              "      <td>0</td>\n",
              "      <td>0</td>\n",
              "      <td>0</td>\n",
              "      <td>99</td>\n",
              "      <td>0</td>\n",
              "      <td>0</td>\n",
              "      <td>0</td>\n",
              "    </tr>\n",
              "    <tr>\n",
              "      <th>673335</th>\n",
              "      <td>590659</td>\n",
              "      <td>13</td>\n",
              "      <td>5.0</td>\n",
              "      <td>0.466963</td>\n",
              "      <td>5</td>\n",
              "      <td>1</td>\n",
              "      <td>0</td>\n",
              "      <td>0.0</td>\n",
              "      <td>0</td>\n",
              "      <td>0.0</td>\n",
              "      <td>...</td>\n",
              "      <td>0</td>\n",
              "      <td>0</td>\n",
              "      <td>0</td>\n",
              "      <td>0</td>\n",
              "      <td>0</td>\n",
              "      <td>0</td>\n",
              "      <td>0</td>\n",
              "      <td>0</td>\n",
              "      <td>0</td>\n",
              "      <td>0</td>\n",
              "    </tr>\n",
              "    <tr>\n",
              "      <th>673336</th>\n",
              "      <td>1247774</td>\n",
              "      <td>0</td>\n",
              "      <td>3.0</td>\n",
              "      <td>0.873431</td>\n",
              "      <td>5</td>\n",
              "      <td>1</td>\n",
              "      <td>1</td>\n",
              "      <td>0.0</td>\n",
              "      <td>0</td>\n",
              "      <td>0.0</td>\n",
              "      <td>...</td>\n",
              "      <td>1</td>\n",
              "      <td>0</td>\n",
              "      <td>75</td>\n",
              "      <td>0</td>\n",
              "      <td>25</td>\n",
              "      <td>0</td>\n",
              "      <td>99</td>\n",
              "      <td>0</td>\n",
              "      <td>0</td>\n",
              "      <td>0</td>\n",
              "    </tr>\n",
              "    <tr>\n",
              "      <th>673337</th>\n",
              "      <td>1155640</td>\n",
              "      <td>15</td>\n",
              "      <td>5.0</td>\n",
              "      <td>0.806311</td>\n",
              "      <td>5</td>\n",
              "      <td>1</td>\n",
              "      <td>1</td>\n",
              "      <td>0.0</td>\n",
              "      <td>0</td>\n",
              "      <td>0.0</td>\n",
              "      <td>...</td>\n",
              "      <td>1</td>\n",
              "      <td>0</td>\n",
              "      <td>99</td>\n",
              "      <td>0</td>\n",
              "      <td>0</td>\n",
              "      <td>0</td>\n",
              "      <td>99</td>\n",
              "      <td>0</td>\n",
              "      <td>0</td>\n",
              "      <td>0</td>\n",
              "    </tr>\n",
              "    <tr>\n",
              "      <th>673338</th>\n",
              "      <td>1148378</td>\n",
              "      <td>1</td>\n",
              "      <td>3.0</td>\n",
              "      <td>0.808752</td>\n",
              "      <td>5</td>\n",
              "      <td>1</td>\n",
              "      <td>0</td>\n",
              "      <td>0.0</td>\n",
              "      <td>0</td>\n",
              "      <td>0.0</td>\n",
              "      <td>...</td>\n",
              "      <td>1</td>\n",
              "      <td>0</td>\n",
              "      <td>0</td>\n",
              "      <td>0</td>\n",
              "      <td>0</td>\n",
              "      <td>0</td>\n",
              "      <td>0</td>\n",
              "      <td>0</td>\n",
              "      <td>0</td>\n",
              "      <td>0</td>\n",
              "    </tr>\n",
              "  </tbody>\n",
              "</table>\n",
              "<p>673339 rows × 67 columns</p>\n",
              "</div>"
            ],
            "text/plain": [
              "             id  type_code  class_id  inception_date  branch  \\\n",
              "0        893724          1       3.0        0.808752       5   \n",
              "1       1268094         15       5.0        0.847716       5   \n",
              "2        606613         18       5.0        0.542538       5   \n",
              "3        741930          0       3.0        0.916405       5   \n",
              "4       1137922          0       3.0        0.806311       5   \n",
              "...         ...        ...       ...             ...     ...   \n",
              "673334  6827067          8       5.0        0.995206       2   \n",
              "673335   590659         13       5.0        0.466963       5   \n",
              "673336  1247774          0       3.0        0.873431       5   \n",
              "673337  1155640         15       5.0        0.806311       5   \n",
              "673338  1148378          1       3.0        0.808752       5   \n",
              "\n",
              "        include_client_consolidation  use_client_address  credit_limit_type  \\\n",
              "0                                  1                   0                0.0   \n",
              "1                                  1                   1                0.0   \n",
              "2                                  0                   0                0.0   \n",
              "3                                  1                   1                0.0   \n",
              "4                                  1                   0                0.0   \n",
              "...                              ...                 ...                ...   \n",
              "673334                             1                   1                0.0   \n",
              "673335                             1                   0                0.0   \n",
              "673336                             1                   1                0.0   \n",
              "673337                             1                   1                0.0   \n",
              "673338                             1                   0                0.0   \n",
              "\n",
              "        is_arp_locked  dividend_confirm_code  ...  label  Low  Medium  \\\n",
              "0                   0                    0.0  ...      1    0       0   \n",
              "1                   0                    0.0  ...      1    0      90   \n",
              "2                   0                    0.0  ...      1    0      50   \n",
              "3                   0                    0.0  ...      1    0      99   \n",
              "4                   0                    0.0  ...      1    0      99   \n",
              "...               ...                    ...  ...    ...  ...     ...   \n",
              "673334              1                    0.0  ...      1    0      99   \n",
              "673335              0                    0.0  ...      0    0       0   \n",
              "673336              0                    0.0  ...      1    0      75   \n",
              "673337              0                    0.0  ...      1    0      99   \n",
              "673338              0                    0.0  ...      1    0       0   \n",
              "\n",
              "        Medium-High  High  Income  Growth  Speculative  Liquidity  Safety  \n",
              "0                 0     0       0       0            0          0       0  \n",
              "1                 0    10       5      85           10          0       0  \n",
              "2                 0    50       0      50           50          0       0  \n",
              "3                 0     0       0      99            0          0       0  \n",
              "4                 0     0       0      99            0          0       0  \n",
              "...             ...   ...     ...     ...          ...        ...     ...  \n",
              "673334            0     0       0      99            0          0       0  \n",
              "673335            0     0       0       0            0          0       0  \n",
              "673336            0    25       0      99            0          0       0  \n",
              "673337            0     0       0      99            0          0       0  \n",
              "673338            0     0       0       0            0          0       0  \n",
              "\n",
              "[673339 rows x 67 columns]"
            ]
          },
          "execution_count": 14,
          "metadata": {},
          "output_type": "execute_result"
        }
      ],
      "source": [
        "# Nathan\n",
        "training_df.class_id.fillna(-999, inplace=True)\n",
        "training_df.credit_limit_type.fillna(-999, inplace=True)\n",
        "training_df.dividend_confirm_code.fillna(-999, inplace=True)\n",
        "\n",
        "# Cloris\n",
        "training_df.deceased_fair_market_value.fillna(0, inplace=True)\n",
        "training_df.options_trading_type.fillna(-999, inplace=True)\n",
        "training_df.interest_dividend_conversion_type.fillna(-999, inplace=True)\n",
        "training_df.guarantee_gtor_type.fillna(-999, inplace=True)\n",
        "\n",
        "# Matthew\n",
        "training_df.number_of_beneficiaries.fillna(0, inplace=True)\n",
        "training_df.label = training_df.label.map({'No Churn': 0, 'Churn': 1})\n",
        "\n",
        "training_df"
      ]
    },
    {
      "attachments": {},
      "cell_type": "markdown",
      "metadata": {
        "id": "e5sh4EkHUBZ1"
      },
      "source": [
        "### 2.0 Exploratory Data Analysis\n"
      ]
    },
    {
      "cell_type": "code",
      "execution_count": 15,
      "metadata": {
        "id": "WoYUp1RyUABT"
      },
      "outputs": [
        {
          "data": {
            "text/html": [
              "<div>\n",
              "<style scoped>\n",
              "    .dataframe tbody tr th:only-of-type {\n",
              "        vertical-align: middle;\n",
              "    }\n",
              "\n",
              "    .dataframe tbody tr th {\n",
              "        vertical-align: top;\n",
              "    }\n",
              "\n",
              "    .dataframe thead th {\n",
              "        text-align: right;\n",
              "    }\n",
              "</style>\n",
              "<table border=\"1\" class=\"dataframe\">\n",
              "  <thead>\n",
              "    <tr style=\"text-align: right;\">\n",
              "      <th></th>\n",
              "      <th>type_code</th>\n",
              "      <th>class_id</th>\n",
              "      <th>inception_date</th>\n",
              "      <th>branch</th>\n",
              "      <th>credit_limit_type</th>\n",
              "      <th>is_arp_locked</th>\n",
              "      <th>options_trading_type</th>\n",
              "      <th>interest_dividend_conversion_type</th>\n",
              "      <th>guarantee_gtor_type</th>\n",
              "      <th>is_spousal_transfer</th>\n",
              "      <th>deceased_fair_market_value</th>\n",
              "      <th>discretionary_trading_authorized</th>\n",
              "    </tr>\n",
              "  </thead>\n",
              "  <tbody>\n",
              "    <tr>\n",
              "      <th>0</th>\n",
              "      <td>1</td>\n",
              "      <td>3.0</td>\n",
              "      <td>0.808752</td>\n",
              "      <td>5</td>\n",
              "      <td>0.0</td>\n",
              "      <td>0</td>\n",
              "      <td>0.0</td>\n",
              "      <td>0.0</td>\n",
              "      <td>0.0</td>\n",
              "      <td>0</td>\n",
              "      <td>0.0</td>\n",
              "      <td>0</td>\n",
              "    </tr>\n",
              "    <tr>\n",
              "      <th>1</th>\n",
              "      <td>15</td>\n",
              "      <td>5.0</td>\n",
              "      <td>0.847716</td>\n",
              "      <td>5</td>\n",
              "      <td>0.0</td>\n",
              "      <td>0</td>\n",
              "      <td>0.0</td>\n",
              "      <td>0.0</td>\n",
              "      <td>2.0</td>\n",
              "      <td>0</td>\n",
              "      <td>0.0</td>\n",
              "      <td>0</td>\n",
              "    </tr>\n",
              "    <tr>\n",
              "      <th>2</th>\n",
              "      <td>18</td>\n",
              "      <td>5.0</td>\n",
              "      <td>0.542538</td>\n",
              "      <td>5</td>\n",
              "      <td>0.0</td>\n",
              "      <td>0</td>\n",
              "      <td>0.0</td>\n",
              "      <td>0.0</td>\n",
              "      <td>2.0</td>\n",
              "      <td>0</td>\n",
              "      <td>0.0</td>\n",
              "      <td>0</td>\n",
              "    </tr>\n",
              "    <tr>\n",
              "      <th>3</th>\n",
              "      <td>0</td>\n",
              "      <td>3.0</td>\n",
              "      <td>0.916405</td>\n",
              "      <td>5</td>\n",
              "      <td>0.0</td>\n",
              "      <td>0</td>\n",
              "      <td>0.0</td>\n",
              "      <td>0.0</td>\n",
              "      <td>0.0</td>\n",
              "      <td>0</td>\n",
              "      <td>0.0</td>\n",
              "      <td>0</td>\n",
              "    </tr>\n",
              "    <tr>\n",
              "      <th>4</th>\n",
              "      <td>0</td>\n",
              "      <td>3.0</td>\n",
              "      <td>0.806311</td>\n",
              "      <td>5</td>\n",
              "      <td>0.0</td>\n",
              "      <td>0</td>\n",
              "      <td>0.0</td>\n",
              "      <td>0.0</td>\n",
              "      <td>0.0</td>\n",
              "      <td>0</td>\n",
              "      <td>0.0</td>\n",
              "      <td>0</td>\n",
              "    </tr>\n",
              "  </tbody>\n",
              "</table>\n",
              "</div>"
            ],
            "text/plain": [
              "   type_code  class_id  inception_date  branch  credit_limit_type  \\\n",
              "0          1       3.0        0.808752       5                0.0   \n",
              "1         15       5.0        0.847716       5                0.0   \n",
              "2         18       5.0        0.542538       5                0.0   \n",
              "3          0       3.0        0.916405       5                0.0   \n",
              "4          0       3.0        0.806311       5                0.0   \n",
              "\n",
              "   is_arp_locked  options_trading_type  interest_dividend_conversion_type  \\\n",
              "0              0                   0.0                                0.0   \n",
              "1              0                   0.0                                0.0   \n",
              "2              0                   0.0                                0.0   \n",
              "3              0                   0.0                                0.0   \n",
              "4              0                   0.0                                0.0   \n",
              "\n",
              "   guarantee_gtor_type  is_spousal_transfer  deceased_fair_market_value  \\\n",
              "0                  0.0                    0                         0.0   \n",
              "1                  2.0                    0                         0.0   \n",
              "2                  2.0                    0                         0.0   \n",
              "3                  0.0                    0                         0.0   \n",
              "4                  0.0                    0                         0.0   \n",
              "\n",
              "   discretionary_trading_authorized  \n",
              "0                                 0  \n",
              "1                                 0  \n",
              "2                                 0  \n",
              "3                                 0  \n",
              "4                                 0  "
            ]
          },
          "execution_count": 15,
          "metadata": {},
          "output_type": "execute_result"
        }
      ],
      "source": [
        "# For A to AZ\n",
        "a_az_df = training_df.iloc[:, list(range(21))]\n",
        "a_az_df = drop_cols(a_az_df, ['id', 'include_client_consolidation', 'use_client_address', 'dividend_confirm_code', 'share_name_address_to_issuer', 'shareholder_instructions_received', 'is_tms_eligible', 'is_agent_bbs_participant', 'terminal_code'])\n",
        "\n",
        "# First 5 observations\n",
        "a_az_df.head()"
      ]
    },
    {
      "cell_type": "code",
      "execution_count": 16,
      "metadata": {},
      "outputs": [
        {
          "data": {
            "text/html": [
              "<div>\n",
              "<style scoped>\n",
              "    .dataframe tbody tr th:only-of-type {\n",
              "        vertical-align: middle;\n",
              "    }\n",
              "\n",
              "    .dataframe tbody tr th {\n",
              "        vertical-align: top;\n",
              "    }\n",
              "\n",
              "    .dataframe thead th {\n",
              "        text-align: right;\n",
              "    }\n",
              "</style>\n",
              "<table border=\"1\" class=\"dataframe\">\n",
              "  <thead>\n",
              "    <tr style=\"text-align: right;\">\n",
              "      <th></th>\n",
              "      <th>iso_funds_code</th>\n",
              "      <th>special_tag</th>\n",
              "      <th>tms_settlement_location</th>\n",
              "      <th>portfolio_report_option</th>\n",
              "      <th>receive_general_mailings</th>\n",
              "      <th>loan_limit_override</th>\n",
              "      <th>has_discrete_auth</th>\n",
              "      <th>last_update_date</th>\n",
              "      <th>is_non_objecting_beneficial_owner</th>\n",
              "      <th>is_objecting_to_disclose_info</th>\n",
              "      <th>...</th>\n",
              "      <th>label</th>\n",
              "      <th>Low</th>\n",
              "      <th>Medium</th>\n",
              "      <th>Medium-High</th>\n",
              "      <th>High</th>\n",
              "      <th>Income</th>\n",
              "      <th>Growth</th>\n",
              "      <th>Speculative</th>\n",
              "      <th>Liquidity</th>\n",
              "      <th>Safety</th>\n",
              "    </tr>\n",
              "  </thead>\n",
              "  <tbody>\n",
              "    <tr>\n",
              "      <th>0</th>\n",
              "      <td>0</td>\n",
              "      <td>-999</td>\n",
              "      <td>-999</td>\n",
              "      <td>0</td>\n",
              "      <td>1</td>\n",
              "      <td>-999</td>\n",
              "      <td>0</td>\n",
              "      <td>0.000000</td>\n",
              "      <td>0</td>\n",
              "      <td>0</td>\n",
              "      <td>...</td>\n",
              "      <td>1</td>\n",
              "      <td>0</td>\n",
              "      <td>0</td>\n",
              "      <td>0</td>\n",
              "      <td>0</td>\n",
              "      <td>0</td>\n",
              "      <td>0</td>\n",
              "      <td>0</td>\n",
              "      <td>0</td>\n",
              "      <td>0</td>\n",
              "    </tr>\n",
              "    <tr>\n",
              "      <th>1</th>\n",
              "      <td>0</td>\n",
              "      <td>-999</td>\n",
              "      <td>-999</td>\n",
              "      <td>0</td>\n",
              "      <td>1</td>\n",
              "      <td>-999</td>\n",
              "      <td>0</td>\n",
              "      <td>0.953032</td>\n",
              "      <td>1</td>\n",
              "      <td>0</td>\n",
              "      <td>...</td>\n",
              "      <td>1</td>\n",
              "      <td>0</td>\n",
              "      <td>90</td>\n",
              "      <td>0</td>\n",
              "      <td>10</td>\n",
              "      <td>5</td>\n",
              "      <td>85</td>\n",
              "      <td>10</td>\n",
              "      <td>0</td>\n",
              "      <td>0</td>\n",
              "    </tr>\n",
              "    <tr>\n",
              "      <th>2</th>\n",
              "      <td>0</td>\n",
              "      <td>-999</td>\n",
              "      <td>-999</td>\n",
              "      <td>0</td>\n",
              "      <td>1</td>\n",
              "      <td>-999</td>\n",
              "      <td>0</td>\n",
              "      <td>0.538847</td>\n",
              "      <td>0</td>\n",
              "      <td>1</td>\n",
              "      <td>...</td>\n",
              "      <td>1</td>\n",
              "      <td>0</td>\n",
              "      <td>50</td>\n",
              "      <td>0</td>\n",
              "      <td>50</td>\n",
              "      <td>0</td>\n",
              "      <td>50</td>\n",
              "      <td>50</td>\n",
              "      <td>0</td>\n",
              "      <td>0</td>\n",
              "    </tr>\n",
              "    <tr>\n",
              "      <th>3</th>\n",
              "      <td>0</td>\n",
              "      <td>-999</td>\n",
              "      <td>-999</td>\n",
              "      <td>0</td>\n",
              "      <td>1</td>\n",
              "      <td>-999</td>\n",
              "      <td>0</td>\n",
              "      <td>0.870195</td>\n",
              "      <td>1</td>\n",
              "      <td>0</td>\n",
              "      <td>...</td>\n",
              "      <td>1</td>\n",
              "      <td>0</td>\n",
              "      <td>99</td>\n",
              "      <td>0</td>\n",
              "      <td>0</td>\n",
              "      <td>0</td>\n",
              "      <td>99</td>\n",
              "      <td>0</td>\n",
              "      <td>0</td>\n",
              "      <td>0</td>\n",
              "    </tr>\n",
              "    <tr>\n",
              "      <th>4</th>\n",
              "      <td>0</td>\n",
              "      <td>-999</td>\n",
              "      <td>-999</td>\n",
              "      <td>0</td>\n",
              "      <td>1</td>\n",
              "      <td>-999</td>\n",
              "      <td>0</td>\n",
              "      <td>0.699648</td>\n",
              "      <td>0</td>\n",
              "      <td>1</td>\n",
              "      <td>...</td>\n",
              "      <td>1</td>\n",
              "      <td>0</td>\n",
              "      <td>99</td>\n",
              "      <td>0</td>\n",
              "      <td>0</td>\n",
              "      <td>0</td>\n",
              "      <td>99</td>\n",
              "      <td>0</td>\n",
              "      <td>0</td>\n",
              "      <td>0</td>\n",
              "    </tr>\n",
              "  </tbody>\n",
              "</table>\n",
              "<p>5 rows × 46 columns</p>\n",
              "</div>"
            ],
            "text/plain": [
              "   iso_funds_code  special_tag  tms_settlement_location  \\\n",
              "0               0         -999                     -999   \n",
              "1               0         -999                     -999   \n",
              "2               0         -999                     -999   \n",
              "3               0         -999                     -999   \n",
              "4               0         -999                     -999   \n",
              "\n",
              "   portfolio_report_option  receive_general_mailings  loan_limit_override  \\\n",
              "0                        0                         1                 -999   \n",
              "1                        0                         1                 -999   \n",
              "2                        0                         1                 -999   \n",
              "3                        0                         1                 -999   \n",
              "4                        0                         1                 -999   \n",
              "\n",
              "   has_discrete_auth  last_update_date  is_non_objecting_beneficial_owner  \\\n",
              "0                  0          0.000000                                  0   \n",
              "1                  0          0.953032                                  1   \n",
              "2                  0          0.538847                                  0   \n",
              "3                  0          0.870195                                  1   \n",
              "4                  0          0.699648                                  0   \n",
              "\n",
              "   is_objecting_to_disclose_info  ...  label  Low  Medium  Medium-High  High  \\\n",
              "0                              0  ...      1    0       0            0     0   \n",
              "1                              0  ...      1    0      90            0    10   \n",
              "2                              1  ...      1    0      50            0    50   \n",
              "3                              0  ...      1    0      99            0     0   \n",
              "4                              1  ...      1    0      99            0     0   \n",
              "\n",
              "   Income  Growth  Speculative  Liquidity Safety  \n",
              "0       0       0            0          0      0  \n",
              "1       5      85           10          0      0  \n",
              "2       0      50           50          0      0  \n",
              "3       0      99            0          0      0  \n",
              "4       0      99            0          0      0  \n",
              "\n",
              "[5 rows x 46 columns]"
            ]
          },
          "execution_count": 16,
          "metadata": {},
          "output_type": "execute_result"
        }
      ],
      "source": [
        "# For BA to CZ\n",
        "df_eda = training_df.iloc[:, 21:]\n",
        "df_eda.head()"
      ]
    },
    {
      "attachments": {},
      "cell_type": "markdown",
      "metadata": {},
      "source": [
        "#### 2.1 General Data Info\n"
      ]
    },
    {
      "cell_type": "code",
      "execution_count": 17,
      "metadata": {},
      "outputs": [
        {
          "name": "stdout",
          "output_type": "stream",
          "text": [
            "<class 'pandas.core.frame.DataFrame'>\n",
            "RangeIndex: 673339 entries, 0 to 673338\n",
            "Data columns (total 12 columns):\n",
            " #   Column                             Non-Null Count   Dtype  \n",
            "---  ------                             --------------   -----  \n",
            " 0   type_code                          673339 non-null  int64  \n",
            " 1   class_id                           673339 non-null  float64\n",
            " 2   inception_date                     673339 non-null  float64\n",
            " 3   branch                             673339 non-null  int64  \n",
            " 4   credit_limit_type                  673339 non-null  float64\n",
            " 5   is_arp_locked                      673339 non-null  int64  \n",
            " 6   options_trading_type               673339 non-null  float64\n",
            " 7   interest_dividend_conversion_type  673339 non-null  float64\n",
            " 8   guarantee_gtor_type                673339 non-null  float64\n",
            " 9   is_spousal_transfer                673339 non-null  int64  \n",
            " 10  deceased_fair_market_value         673339 non-null  float64\n",
            " 11  discretionary_trading_authorized   673339 non-null  int64  \n",
            "dtypes: float64(7), int64(5)\n",
            "memory usage: 61.6 MB\n",
            "<class 'pandas.core.frame.DataFrame'>\n",
            "RangeIndex: 673339 entries, 0 to 673338\n",
            "Data columns (total 46 columns):\n",
            " #   Column                              Non-Null Count   Dtype  \n",
            "---  ------                              --------------   -----  \n",
            " 0   iso_funds_code                      673339 non-null  int64  \n",
            " 1   special_tag                         673339 non-null  int64  \n",
            " 2   tms_settlement_location             673339 non-null  int64  \n",
            " 3   portfolio_report_option             673339 non-null  int64  \n",
            " 4   receive_general_mailings            673339 non-null  int64  \n",
            " 5   loan_limit_override                 673339 non-null  int64  \n",
            " 6   has_discrete_auth                   673339 non-null  int64  \n",
            " 7   last_update_date                    673339 non-null  float64\n",
            " 8   is_non_objecting_beneficial_owner   673339 non-null  int64  \n",
            " 9   is_objecting_to_disclose_info       673339 non-null  int64  \n",
            " 10  mailing_consent                     670141 non-null  float64\n",
            " 11  consent_to_pay_for_mail             673339 non-null  int64  \n",
            " 12  consent_to_email_delivery           673339 non-null  int64  \n",
            " 13  has_received_instruction            673339 non-null  int64  \n",
            " 14  is_inventory_account                673339 non-null  int64  \n",
            " 15  is_extract_eligible                 673339 non-null  int64  \n",
            " 16  last_maintenance_time               673339 non-null  float64\n",
            " 17  last_maintenance_user               673339 non-null  int64  \n",
            " 18  is_pledged                          673339 non-null  int64  \n",
            " 19  special_fee_code                    68 non-null      object \n",
            " 20  non_calendar_year_end               356354 non-null  object \n",
            " 21  plan_effective_date                 673339 non-null  float64\n",
            " 22  plan_end_date                       673339 non-null  float64\n",
            " 23  is_resp                             673339 non-null  int64  \n",
            " 24  number_of_beneficiaries             673339 non-null  float64\n",
            " 25  rrif_original_date                  673339 non-null  float64\n",
            " 26  use_original_date_for_payment_calc  673339 non-null  int64  \n",
            " 27  is_family_resp                      673339 non-null  int64  \n",
            " 28  is_hrdc_resp                        673339 non-null  int64  \n",
            " 29  resp_specimen_plan                  22721 non-null   float64\n",
            " 30  inserted_at                         673339 non-null  float64\n",
            " 31  updated_at                          673339 non-null  float64\n",
            " 32  is_olob                             673339 non-null  int64  \n",
            " 33  retail_last_maintenance_time        673339 non-null  float64\n",
            " 34  retail_last_maintenance_user        673339 non-null  int64  \n",
            " 35  visible_in_reports                  673339 non-null  int64  \n",
            " 36  label                               673339 non-null  int64  \n",
            " 37  Low                                 673339 non-null  int64  \n",
            " 38  Medium                              673339 non-null  int64  \n",
            " 39  Medium-High                         673339 non-null  int64  \n",
            " 40  High                                673339 non-null  int64  \n",
            " 41  Income                              673339 non-null  int64  \n",
            " 42  Growth                              673339 non-null  int64  \n",
            " 43  Speculative                         673339 non-null  int64  \n",
            " 44  Liquidity                           673339 non-null  int64  \n",
            " 45  Safety                              673339 non-null  int64  \n",
            "dtypes: float64(11), int64(33), object(2)\n",
            "memory usage: 236.3+ MB\n"
          ]
        }
      ],
      "source": [
        "# Summary of dataframe's composition\n",
        "a_az_df.info()\n",
        "df_eda.info()"
      ]
    },
    {
      "cell_type": "code",
      "execution_count": 18,
      "metadata": {},
      "outputs": [
        {
          "name": "stdout",
          "output_type": "stream",
          "text": [
            "for A to AZ\n"
          ]
        },
        {
          "data": {
            "text/html": [
              "<div>\n",
              "<style scoped>\n",
              "    .dataframe tbody tr th:only-of-type {\n",
              "        vertical-align: middle;\n",
              "    }\n",
              "\n",
              "    .dataframe tbody tr th {\n",
              "        vertical-align: top;\n",
              "    }\n",
              "\n",
              "    .dataframe thead th {\n",
              "        text-align: right;\n",
              "    }\n",
              "</style>\n",
              "<table border=\"1\" class=\"dataframe\">\n",
              "  <thead>\n",
              "    <tr style=\"text-align: right;\">\n",
              "      <th></th>\n",
              "      <th>type_code</th>\n",
              "      <th>class_id</th>\n",
              "      <th>inception_date</th>\n",
              "      <th>branch</th>\n",
              "      <th>credit_limit_type</th>\n",
              "      <th>is_arp_locked</th>\n",
              "      <th>options_trading_type</th>\n",
              "      <th>interest_dividend_conversion_type</th>\n",
              "      <th>guarantee_gtor_type</th>\n",
              "      <th>is_spousal_transfer</th>\n",
              "      <th>deceased_fair_market_value</th>\n",
              "      <th>discretionary_trading_authorized</th>\n",
              "    </tr>\n",
              "  </thead>\n",
              "  <tbody>\n",
              "    <tr>\n",
              "      <th>count</th>\n",
              "      <td>673339.000000</td>\n",
              "      <td>673339.000000</td>\n",
              "      <td>673339.000000</td>\n",
              "      <td>673339.000000</td>\n",
              "      <td>673339.000000</td>\n",
              "      <td>673339.000000</td>\n",
              "      <td>673339.000000</td>\n",
              "      <td>673339.000000</td>\n",
              "      <td>673339.000000</td>\n",
              "      <td>673339.000000</td>\n",
              "      <td>673339.000000</td>\n",
              "      <td>673339.000000</td>\n",
              "    </tr>\n",
              "    <tr>\n",
              "      <th>mean</th>\n",
              "      <td>8.325823</td>\n",
              "      <td>-0.326501</td>\n",
              "      <td>0.801163</td>\n",
              "      <td>-0.249815</td>\n",
              "      <td>-4.744078</td>\n",
              "      <td>0.042898</td>\n",
              "      <td>-4.690759</td>\n",
              "      <td>-4.742394</td>\n",
              "      <td>-3.599377</td>\n",
              "      <td>0.000184</td>\n",
              "      <td>2.172825</td>\n",
              "      <td>0.021162</td>\n",
              "    </tr>\n",
              "    <tr>\n",
              "      <th>std</th>\n",
              "      <td>20.339038</td>\n",
              "      <td>69.059302</td>\n",
              "      <td>0.135758</td>\n",
              "      <td>69.002734</td>\n",
              "      <td>68.683892</td>\n",
              "      <td>0.202628</td>\n",
              "      <td>68.688458</td>\n",
              "      <td>68.683985</td>\n",
              "      <td>68.770445</td>\n",
              "      <td>0.013569</td>\n",
              "      <td>46.320385</td>\n",
              "      <td>0.143923</td>\n",
              "    </tr>\n",
              "    <tr>\n",
              "      <th>min</th>\n",
              "      <td>-999.000000</td>\n",
              "      <td>-999.000000</td>\n",
              "      <td>0.000000</td>\n",
              "      <td>-999.000000</td>\n",
              "      <td>-999.000000</td>\n",
              "      <td>0.000000</td>\n",
              "      <td>-999.000000</td>\n",
              "      <td>-999.000000</td>\n",
              "      <td>-999.000000</td>\n",
              "      <td>0.000000</td>\n",
              "      <td>0.000000</td>\n",
              "      <td>0.000000</td>\n",
              "    </tr>\n",
              "    <tr>\n",
              "      <th>5%</th>\n",
              "      <td>0.000000</td>\n",
              "      <td>3.000000</td>\n",
              "      <td>0.521705</td>\n",
              "      <td>2.000000</td>\n",
              "      <td>0.000000</td>\n",
              "      <td>0.000000</td>\n",
              "      <td>0.000000</td>\n",
              "      <td>0.000000</td>\n",
              "      <td>0.000000</td>\n",
              "      <td>0.000000</td>\n",
              "      <td>0.000000</td>\n",
              "      <td>0.000000</td>\n",
              "    </tr>\n",
              "    <tr>\n",
              "      <th>25%</th>\n",
              "      <td>0.000000</td>\n",
              "      <td>3.000000</td>\n",
              "      <td>0.806311</td>\n",
              "      <td>4.000000</td>\n",
              "      <td>0.000000</td>\n",
              "      <td>0.000000</td>\n",
              "      <td>0.000000</td>\n",
              "      <td>0.000000</td>\n",
              "      <td>0.000000</td>\n",
              "      <td>0.000000</td>\n",
              "      <td>0.000000</td>\n",
              "      <td>0.000000</td>\n",
              "    </tr>\n",
              "    <tr>\n",
              "      <th>50%</th>\n",
              "      <td>10.000000</td>\n",
              "      <td>5.000000</td>\n",
              "      <td>0.806311</td>\n",
              "      <td>5.000000</td>\n",
              "      <td>0.000000</td>\n",
              "      <td>0.000000</td>\n",
              "      <td>0.000000</td>\n",
              "      <td>0.000000</td>\n",
              "      <td>2.000000</td>\n",
              "      <td>0.000000</td>\n",
              "      <td>0.000000</td>\n",
              "      <td>0.000000</td>\n",
              "    </tr>\n",
              "    <tr>\n",
              "      <th>75%</th>\n",
              "      <td>15.000000</td>\n",
              "      <td>5.000000</td>\n",
              "      <td>0.872167</td>\n",
              "      <td>5.000000</td>\n",
              "      <td>0.000000</td>\n",
              "      <td>0.000000</td>\n",
              "      <td>0.000000</td>\n",
              "      <td>0.000000</td>\n",
              "      <td>2.000000</td>\n",
              "      <td>0.000000</td>\n",
              "      <td>0.000000</td>\n",
              "      <td>0.000000</td>\n",
              "    </tr>\n",
              "    <tr>\n",
              "      <th>90%</th>\n",
              "      <td>19.000000</td>\n",
              "      <td>5.000000</td>\n",
              "      <td>0.946043</td>\n",
              "      <td>5.000000</td>\n",
              "      <td>0.000000</td>\n",
              "      <td>0.000000</td>\n",
              "      <td>0.000000</td>\n",
              "      <td>0.000000</td>\n",
              "      <td>2.000000</td>\n",
              "      <td>0.000000</td>\n",
              "      <td>0.000000</td>\n",
              "      <td>0.000000</td>\n",
              "    </tr>\n",
              "    <tr>\n",
              "      <th>95%</th>\n",
              "      <td>19.000000</td>\n",
              "      <td>5.000000</td>\n",
              "      <td>0.974372</td>\n",
              "      <td>5.000000</td>\n",
              "      <td>0.000000</td>\n",
              "      <td>0.000000</td>\n",
              "      <td>0.000000</td>\n",
              "      <td>0.000000</td>\n",
              "      <td>2.000000</td>\n",
              "      <td>0.000000</td>\n",
              "      <td>0.000000</td>\n",
              "      <td>0.000000</td>\n",
              "    </tr>\n",
              "    <tr>\n",
              "      <th>99%</th>\n",
              "      <td>19.000000</td>\n",
              "      <td>10.000000</td>\n",
              "      <td>0.994857</td>\n",
              "      <td>5.000000</td>\n",
              "      <td>0.000000</td>\n",
              "      <td>1.000000</td>\n",
              "      <td>2.000000</td>\n",
              "      <td>0.000000</td>\n",
              "      <td>3.000000</td>\n",
              "      <td>0.000000</td>\n",
              "      <td>0.000000</td>\n",
              "      <td>1.000000</td>\n",
              "    </tr>\n",
              "    <tr>\n",
              "      <th>max</th>\n",
              "      <td>19.000000</td>\n",
              "      <td>75.000000</td>\n",
              "      <td>1.000000</td>\n",
              "      <td>8.000000</td>\n",
              "      <td>9.000000</td>\n",
              "      <td>1.000000</td>\n",
              "      <td>7.000000</td>\n",
              "      <td>1.000000</td>\n",
              "      <td>3.000000</td>\n",
              "      <td>1.000000</td>\n",
              "      <td>3493.740000</td>\n",
              "      <td>1.000000</td>\n",
              "    </tr>\n",
              "  </tbody>\n",
              "</table>\n",
              "</div>"
            ],
            "text/plain": [
              "           type_code       class_id  inception_date         branch  \\\n",
              "count  673339.000000  673339.000000   673339.000000  673339.000000   \n",
              "mean        8.325823      -0.326501        0.801163      -0.249815   \n",
              "std        20.339038      69.059302        0.135758      69.002734   \n",
              "min      -999.000000    -999.000000        0.000000    -999.000000   \n",
              "5%          0.000000       3.000000        0.521705       2.000000   \n",
              "25%         0.000000       3.000000        0.806311       4.000000   \n",
              "50%        10.000000       5.000000        0.806311       5.000000   \n",
              "75%        15.000000       5.000000        0.872167       5.000000   \n",
              "90%        19.000000       5.000000        0.946043       5.000000   \n",
              "95%        19.000000       5.000000        0.974372       5.000000   \n",
              "99%        19.000000      10.000000        0.994857       5.000000   \n",
              "max        19.000000      75.000000        1.000000       8.000000   \n",
              "\n",
              "       credit_limit_type  is_arp_locked  options_trading_type  \\\n",
              "count      673339.000000  673339.000000         673339.000000   \n",
              "mean           -4.744078       0.042898             -4.690759   \n",
              "std            68.683892       0.202628             68.688458   \n",
              "min          -999.000000       0.000000           -999.000000   \n",
              "5%              0.000000       0.000000              0.000000   \n",
              "25%             0.000000       0.000000              0.000000   \n",
              "50%             0.000000       0.000000              0.000000   \n",
              "75%             0.000000       0.000000              0.000000   \n",
              "90%             0.000000       0.000000              0.000000   \n",
              "95%             0.000000       0.000000              0.000000   \n",
              "99%             0.000000       1.000000              2.000000   \n",
              "max             9.000000       1.000000              7.000000   \n",
              "\n",
              "       interest_dividend_conversion_type  guarantee_gtor_type  \\\n",
              "count                      673339.000000        673339.000000   \n",
              "mean                           -4.742394            -3.599377   \n",
              "std                            68.683985            68.770445   \n",
              "min                          -999.000000          -999.000000   \n",
              "5%                              0.000000             0.000000   \n",
              "25%                             0.000000             0.000000   \n",
              "50%                             0.000000             2.000000   \n",
              "75%                             0.000000             2.000000   \n",
              "90%                             0.000000             2.000000   \n",
              "95%                             0.000000             2.000000   \n",
              "99%                             0.000000             3.000000   \n",
              "max                             1.000000             3.000000   \n",
              "\n",
              "       is_spousal_transfer  deceased_fair_market_value  \\\n",
              "count        673339.000000               673339.000000   \n",
              "mean              0.000184                    2.172825   \n",
              "std               0.013569                   46.320385   \n",
              "min               0.000000                    0.000000   \n",
              "5%                0.000000                    0.000000   \n",
              "25%               0.000000                    0.000000   \n",
              "50%               0.000000                    0.000000   \n",
              "75%               0.000000                    0.000000   \n",
              "90%               0.000000                    0.000000   \n",
              "95%               0.000000                    0.000000   \n",
              "99%               0.000000                    0.000000   \n",
              "max               1.000000                 3493.740000   \n",
              "\n",
              "       discretionary_trading_authorized  \n",
              "count                     673339.000000  \n",
              "mean                           0.021162  \n",
              "std                            0.143923  \n",
              "min                            0.000000  \n",
              "5%                             0.000000  \n",
              "25%                            0.000000  \n",
              "50%                            0.000000  \n",
              "75%                            0.000000  \n",
              "90%                            0.000000  \n",
              "95%                            0.000000  \n",
              "99%                            1.000000  \n",
              "max                            1.000000  "
            ]
          },
          "execution_count": 18,
          "metadata": {},
          "output_type": "execute_result"
        }
      ],
      "source": [
        "# To generate descriptive statistics of our data set\n",
        "print ('for A to AZ')\n",
        "a_az_df.describe([0.05,0.25,0.50,0.75,0.90,0.95,0.99])\n"
      ]
    },
    {
      "cell_type": "code",
      "execution_count": 19,
      "metadata": {},
      "outputs": [
        {
          "name": "stdout",
          "output_type": "stream",
          "text": [
            "for BA to CZ\n"
          ]
        },
        {
          "data": {
            "text/html": [
              "<div>\n",
              "<style scoped>\n",
              "    .dataframe tbody tr th:only-of-type {\n",
              "        vertical-align: middle;\n",
              "    }\n",
              "\n",
              "    .dataframe tbody tr th {\n",
              "        vertical-align: top;\n",
              "    }\n",
              "\n",
              "    .dataframe thead th {\n",
              "        text-align: right;\n",
              "    }\n",
              "</style>\n",
              "<table border=\"1\" class=\"dataframe\">\n",
              "  <thead>\n",
              "    <tr style=\"text-align: right;\">\n",
              "      <th></th>\n",
              "      <th>iso_funds_code</th>\n",
              "      <th>special_tag</th>\n",
              "      <th>tms_settlement_location</th>\n",
              "      <th>portfolio_report_option</th>\n",
              "      <th>receive_general_mailings</th>\n",
              "      <th>loan_limit_override</th>\n",
              "      <th>has_discrete_auth</th>\n",
              "      <th>last_update_date</th>\n",
              "      <th>is_non_objecting_beneficial_owner</th>\n",
              "      <th>is_objecting_to_disclose_info</th>\n",
              "      <th>...</th>\n",
              "      <th>label</th>\n",
              "      <th>Low</th>\n",
              "      <th>Medium</th>\n",
              "      <th>Medium-High</th>\n",
              "      <th>High</th>\n",
              "      <th>Income</th>\n",
              "      <th>Growth</th>\n",
              "      <th>Speculative</th>\n",
              "      <th>Liquidity</th>\n",
              "      <th>Safety</th>\n",
              "    </tr>\n",
              "  </thead>\n",
              "  <tbody>\n",
              "    <tr>\n",
              "      <th>count</th>\n",
              "      <td>673339.000000</td>\n",
              "      <td>673339.000000</td>\n",
              "      <td>673339.000000</td>\n",
              "      <td>673339.000000</td>\n",
              "      <td>673339.000000</td>\n",
              "      <td>673339.000000</td>\n",
              "      <td>673339.0</td>\n",
              "      <td>673339.000000</td>\n",
              "      <td>673339.000000</td>\n",
              "      <td>673339.000000</td>\n",
              "      <td>...</td>\n",
              "      <td>673339.000000</td>\n",
              "      <td>673339.000000</td>\n",
              "      <td>673339.000000</td>\n",
              "      <td>673339.0</td>\n",
              "      <td>673339.000000</td>\n",
              "      <td>673339.000000</td>\n",
              "      <td>673339.000000</td>\n",
              "      <td>673339.000000</td>\n",
              "      <td>673339.000000</td>\n",
              "      <td>673339.000000</td>\n",
              "    </tr>\n",
              "    <tr>\n",
              "      <th>mean</th>\n",
              "      <td>-4.688046</td>\n",
              "      <td>-929.842620</td>\n",
              "      <td>-987.408603</td>\n",
              "      <td>-4.744696</td>\n",
              "      <td>0.995157</td>\n",
              "      <td>-952.745440</td>\n",
              "      <td>0.0</td>\n",
              "      <td>0.642163</td>\n",
              "      <td>0.435102</td>\n",
              "      <td>0.401062</td>\n",
              "      <td>...</td>\n",
              "      <td>0.799663</td>\n",
              "      <td>6.917673</td>\n",
              "      <td>54.797332</td>\n",
              "      <td>0.0</td>\n",
              "      <td>16.136998</td>\n",
              "      <td>8.987348</td>\n",
              "      <td>55.411895</td>\n",
              "      <td>10.138513</td>\n",
              "      <td>3.390350</td>\n",
              "      <td>0.005418</td>\n",
              "    </tr>\n",
              "    <tr>\n",
              "      <th>std</th>\n",
              "      <td>68.688112</td>\n",
              "      <td>254.121725</td>\n",
              "      <td>107.429143</td>\n",
              "      <td>68.683810</td>\n",
              "      <td>0.069423</td>\n",
              "      <td>210.036043</td>\n",
              "      <td>0.0</td>\n",
              "      <td>0.332128</td>\n",
              "      <td>0.495771</td>\n",
              "      <td>0.490114</td>\n",
              "      <td>...</td>\n",
              "      <td>0.400253</td>\n",
              "      <td>21.433002</td>\n",
              "      <td>40.803495</td>\n",
              "      <td>0.0</td>\n",
              "      <td>26.355602</td>\n",
              "      <td>18.537370</td>\n",
              "      <td>40.957597</td>\n",
              "      <td>23.068542</td>\n",
              "      <td>17.353538</td>\n",
              "      <td>0.593080</td>\n",
              "    </tr>\n",
              "    <tr>\n",
              "      <th>min</th>\n",
              "      <td>-999.000000</td>\n",
              "      <td>-999.000000</td>\n",
              "      <td>-999.000000</td>\n",
              "      <td>-999.000000</td>\n",
              "      <td>0.000000</td>\n",
              "      <td>-999.000000</td>\n",
              "      <td>0.0</td>\n",
              "      <td>0.000000</td>\n",
              "      <td>0.000000</td>\n",
              "      <td>0.000000</td>\n",
              "      <td>...</td>\n",
              "      <td>0.000000</td>\n",
              "      <td>0.000000</td>\n",
              "      <td>0.000000</td>\n",
              "      <td>0.0</td>\n",
              "      <td>0.000000</td>\n",
              "      <td>0.000000</td>\n",
              "      <td>0.000000</td>\n",
              "      <td>0.000000</td>\n",
              "      <td>0.000000</td>\n",
              "      <td>0.000000</td>\n",
              "    </tr>\n",
              "    <tr>\n",
              "      <th>5%</th>\n",
              "      <td>0.000000</td>\n",
              "      <td>-999.000000</td>\n",
              "      <td>-999.000000</td>\n",
              "      <td>0.000000</td>\n",
              "      <td>1.000000</td>\n",
              "      <td>-999.000000</td>\n",
              "      <td>0.0</td>\n",
              "      <td>0.000000</td>\n",
              "      <td>0.000000</td>\n",
              "      <td>0.000000</td>\n",
              "      <td>...</td>\n",
              "      <td>0.000000</td>\n",
              "      <td>0.000000</td>\n",
              "      <td>0.000000</td>\n",
              "      <td>0.0</td>\n",
              "      <td>0.000000</td>\n",
              "      <td>0.000000</td>\n",
              "      <td>0.000000</td>\n",
              "      <td>0.000000</td>\n",
              "      <td>0.000000</td>\n",
              "      <td>0.000000</td>\n",
              "    </tr>\n",
              "    <tr>\n",
              "      <th>25%</th>\n",
              "      <td>0.000000</td>\n",
              "      <td>-999.000000</td>\n",
              "      <td>-999.000000</td>\n",
              "      <td>0.000000</td>\n",
              "      <td>1.000000</td>\n",
              "      <td>-999.000000</td>\n",
              "      <td>0.0</td>\n",
              "      <td>0.501760</td>\n",
              "      <td>0.000000</td>\n",
              "      <td>0.000000</td>\n",
              "      <td>...</td>\n",
              "      <td>1.000000</td>\n",
              "      <td>0.000000</td>\n",
              "      <td>0.000000</td>\n",
              "      <td>0.0</td>\n",
              "      <td>0.000000</td>\n",
              "      <td>0.000000</td>\n",
              "      <td>0.000000</td>\n",
              "      <td>0.000000</td>\n",
              "      <td>0.000000</td>\n",
              "      <td>0.000000</td>\n",
              "    </tr>\n",
              "    <tr>\n",
              "      <th>50%</th>\n",
              "      <td>0.000000</td>\n",
              "      <td>-999.000000</td>\n",
              "      <td>-999.000000</td>\n",
              "      <td>0.000000</td>\n",
              "      <td>1.000000</td>\n",
              "      <td>-999.000000</td>\n",
              "      <td>0.0</td>\n",
              "      <td>0.752978</td>\n",
              "      <td>0.000000</td>\n",
              "      <td>0.000000</td>\n",
              "      <td>...</td>\n",
              "      <td>1.000000</td>\n",
              "      <td>0.000000</td>\n",
              "      <td>70.000000</td>\n",
              "      <td>0.0</td>\n",
              "      <td>0.000000</td>\n",
              "      <td>0.000000</td>\n",
              "      <td>70.000000</td>\n",
              "      <td>0.000000</td>\n",
              "      <td>0.000000</td>\n",
              "      <td>0.000000</td>\n",
              "    </tr>\n",
              "    <tr>\n",
              "      <th>75%</th>\n",
              "      <td>0.000000</td>\n",
              "      <td>-999.000000</td>\n",
              "      <td>-999.000000</td>\n",
              "      <td>0.000000</td>\n",
              "      <td>1.000000</td>\n",
              "      <td>-999.000000</td>\n",
              "      <td>0.0</td>\n",
              "      <td>0.891310</td>\n",
              "      <td>1.000000</td>\n",
              "      <td>1.000000</td>\n",
              "      <td>...</td>\n",
              "      <td>1.000000</td>\n",
              "      <td>0.000000</td>\n",
              "      <td>95.000000</td>\n",
              "      <td>0.0</td>\n",
              "      <td>20.000000</td>\n",
              "      <td>10.000000</td>\n",
              "      <td>99.000000</td>\n",
              "      <td>10.000000</td>\n",
              "      <td>0.000000</td>\n",
              "      <td>0.000000</td>\n",
              "    </tr>\n",
              "    <tr>\n",
              "      <th>90%</th>\n",
              "      <td>0.000000</td>\n",
              "      <td>-999.000000</td>\n",
              "      <td>-999.000000</td>\n",
              "      <td>0.000000</td>\n",
              "      <td>1.000000</td>\n",
              "      <td>-999.000000</td>\n",
              "      <td>0.0</td>\n",
              "      <td>0.956416</td>\n",
              "      <td>1.000000</td>\n",
              "      <td>1.000000</td>\n",
              "      <td>...</td>\n",
              "      <td>1.000000</td>\n",
              "      <td>20.000000</td>\n",
              "      <td>99.000000</td>\n",
              "      <td>0.0</td>\n",
              "      <td>50.000000</td>\n",
              "      <td>35.000000</td>\n",
              "      <td>99.000000</td>\n",
              "      <td>34.000000</td>\n",
              "      <td>0.000000</td>\n",
              "      <td>0.000000</td>\n",
              "    </tr>\n",
              "    <tr>\n",
              "      <th>95%</th>\n",
              "      <td>1.000000</td>\n",
              "      <td>4.000000</td>\n",
              "      <td>-999.000000</td>\n",
              "      <td>0.000000</td>\n",
              "      <td>1.000000</td>\n",
              "      <td>-999.000000</td>\n",
              "      <td>0.0</td>\n",
              "      <td>0.976719</td>\n",
              "      <td>1.000000</td>\n",
              "      <td>1.000000</td>\n",
              "      <td>...</td>\n",
              "      <td>1.000000</td>\n",
              "      <td>50.000000</td>\n",
              "      <td>99.000000</td>\n",
              "      <td>0.0</td>\n",
              "      <td>99.000000</td>\n",
              "      <td>50.000000</td>\n",
              "      <td>99.000000</td>\n",
              "      <td>50.000000</td>\n",
              "      <td>2.000000</td>\n",
              "      <td>0.000000</td>\n",
              "    </tr>\n",
              "    <tr>\n",
              "      <th>99%</th>\n",
              "      <td>1.000000</td>\n",
              "      <td>4.000000</td>\n",
              "      <td>1.000000</td>\n",
              "      <td>0.000000</td>\n",
              "      <td>1.000000</td>\n",
              "      <td>1.000000</td>\n",
              "      <td>0.0</td>\n",
              "      <td>0.995669</td>\n",
              "      <td>1.000000</td>\n",
              "      <td>1.000000</td>\n",
              "      <td>...</td>\n",
              "      <td>1.000000</td>\n",
              "      <td>99.000000</td>\n",
              "      <td>99.000000</td>\n",
              "      <td>0.0</td>\n",
              "      <td>99.000000</td>\n",
              "      <td>99.000000</td>\n",
              "      <td>99.000000</td>\n",
              "      <td>99.000000</td>\n",
              "      <td>99.000000</td>\n",
              "      <td>0.000000</td>\n",
              "    </tr>\n",
              "    <tr>\n",
              "      <th>max</th>\n",
              "      <td>1.000000</td>\n",
              "      <td>7.000000</td>\n",
              "      <td>13.000000</td>\n",
              "      <td>3.000000</td>\n",
              "      <td>1.000000</td>\n",
              "      <td>2.000000</td>\n",
              "      <td>0.0</td>\n",
              "      <td>1.000000</td>\n",
              "      <td>1.000000</td>\n",
              "      <td>1.000000</td>\n",
              "      <td>...</td>\n",
              "      <td>1.000000</td>\n",
              "      <td>99.000000</td>\n",
              "      <td>99.000000</td>\n",
              "      <td>0.0</td>\n",
              "      <td>99.000000</td>\n",
              "      <td>99.000000</td>\n",
              "      <td>99.000000</td>\n",
              "      <td>100.000000</td>\n",
              "      <td>99.000000</td>\n",
              "      <td>99.000000</td>\n",
              "    </tr>\n",
              "  </tbody>\n",
              "</table>\n",
              "<p>12 rows × 44 columns</p>\n",
              "</div>"
            ],
            "text/plain": [
              "       iso_funds_code    special_tag  tms_settlement_location  \\\n",
              "count   673339.000000  673339.000000            673339.000000   \n",
              "mean        -4.688046    -929.842620              -987.408603   \n",
              "std         68.688112     254.121725               107.429143   \n",
              "min       -999.000000    -999.000000              -999.000000   \n",
              "5%           0.000000    -999.000000              -999.000000   \n",
              "25%          0.000000    -999.000000              -999.000000   \n",
              "50%          0.000000    -999.000000              -999.000000   \n",
              "75%          0.000000    -999.000000              -999.000000   \n",
              "90%          0.000000    -999.000000              -999.000000   \n",
              "95%          1.000000       4.000000              -999.000000   \n",
              "99%          1.000000       4.000000                 1.000000   \n",
              "max          1.000000       7.000000                13.000000   \n",
              "\n",
              "       portfolio_report_option  receive_general_mailings  loan_limit_override  \\\n",
              "count            673339.000000             673339.000000        673339.000000   \n",
              "mean                 -4.744696                  0.995157          -952.745440   \n",
              "std                  68.683810                  0.069423           210.036043   \n",
              "min                -999.000000                  0.000000          -999.000000   \n",
              "5%                    0.000000                  1.000000          -999.000000   \n",
              "25%                   0.000000                  1.000000          -999.000000   \n",
              "50%                   0.000000                  1.000000          -999.000000   \n",
              "75%                   0.000000                  1.000000          -999.000000   \n",
              "90%                   0.000000                  1.000000          -999.000000   \n",
              "95%                   0.000000                  1.000000          -999.000000   \n",
              "99%                   0.000000                  1.000000             1.000000   \n",
              "max                   3.000000                  1.000000             2.000000   \n",
              "\n",
              "       has_discrete_auth  last_update_date  is_non_objecting_beneficial_owner  \\\n",
              "count           673339.0     673339.000000                      673339.000000   \n",
              "mean                 0.0          0.642163                           0.435102   \n",
              "std                  0.0          0.332128                           0.495771   \n",
              "min                  0.0          0.000000                           0.000000   \n",
              "5%                   0.0          0.000000                           0.000000   \n",
              "25%                  0.0          0.501760                           0.000000   \n",
              "50%                  0.0          0.752978                           0.000000   \n",
              "75%                  0.0          0.891310                           1.000000   \n",
              "90%                  0.0          0.956416                           1.000000   \n",
              "95%                  0.0          0.976719                           1.000000   \n",
              "99%                  0.0          0.995669                           1.000000   \n",
              "max                  0.0          1.000000                           1.000000   \n",
              "\n",
              "       is_objecting_to_disclose_info  ...          label            Low  \\\n",
              "count                  673339.000000  ...  673339.000000  673339.000000   \n",
              "mean                        0.401062  ...       0.799663       6.917673   \n",
              "std                         0.490114  ...       0.400253      21.433002   \n",
              "min                         0.000000  ...       0.000000       0.000000   \n",
              "5%                          0.000000  ...       0.000000       0.000000   \n",
              "25%                         0.000000  ...       1.000000       0.000000   \n",
              "50%                         0.000000  ...       1.000000       0.000000   \n",
              "75%                         1.000000  ...       1.000000       0.000000   \n",
              "90%                         1.000000  ...       1.000000      20.000000   \n",
              "95%                         1.000000  ...       1.000000      50.000000   \n",
              "99%                         1.000000  ...       1.000000      99.000000   \n",
              "max                         1.000000  ...       1.000000      99.000000   \n",
              "\n",
              "              Medium  Medium-High           High         Income  \\\n",
              "count  673339.000000     673339.0  673339.000000  673339.000000   \n",
              "mean       54.797332          0.0      16.136998       8.987348   \n",
              "std        40.803495          0.0      26.355602      18.537370   \n",
              "min         0.000000          0.0       0.000000       0.000000   \n",
              "5%          0.000000          0.0       0.000000       0.000000   \n",
              "25%         0.000000          0.0       0.000000       0.000000   \n",
              "50%        70.000000          0.0       0.000000       0.000000   \n",
              "75%        95.000000          0.0      20.000000      10.000000   \n",
              "90%        99.000000          0.0      50.000000      35.000000   \n",
              "95%        99.000000          0.0      99.000000      50.000000   \n",
              "99%        99.000000          0.0      99.000000      99.000000   \n",
              "max        99.000000          0.0      99.000000      99.000000   \n",
              "\n",
              "              Growth    Speculative      Liquidity         Safety  \n",
              "count  673339.000000  673339.000000  673339.000000  673339.000000  \n",
              "mean       55.411895      10.138513       3.390350       0.005418  \n",
              "std        40.957597      23.068542      17.353538       0.593080  \n",
              "min         0.000000       0.000000       0.000000       0.000000  \n",
              "5%          0.000000       0.000000       0.000000       0.000000  \n",
              "25%         0.000000       0.000000       0.000000       0.000000  \n",
              "50%        70.000000       0.000000       0.000000       0.000000  \n",
              "75%        99.000000      10.000000       0.000000       0.000000  \n",
              "90%        99.000000      34.000000       0.000000       0.000000  \n",
              "95%        99.000000      50.000000       2.000000       0.000000  \n",
              "99%        99.000000      99.000000      99.000000       0.000000  \n",
              "max        99.000000     100.000000      99.000000      99.000000  \n",
              "\n",
              "[12 rows x 44 columns]"
            ]
          },
          "execution_count": 19,
          "metadata": {},
          "output_type": "execute_result"
        }
      ],
      "source": [
        "print ('for BA to CZ')\n",
        "df_eda.describe([0.05,0.25,0.50,0.75,0.90,0.95,0.99])"
      ]
    },
    {
      "cell_type": "code",
      "execution_count": 20,
      "metadata": {},
      "outputs": [
        {
          "name": "stdout",
          "output_type": "stream",
          "text": [
            "for A to AZ\n",
            "['type_code', 'branch', 'credit_limit_type', 'is_arp_locked', 'options_trading_type', 'interest_dividend_conversion_type', 'guarantee_gtor_type', 'is_spousal_transfer', 'discretionary_trading_authorized']\n"
          ]
        }
      ],
      "source": [
        "# Categorical Variables\n",
        "categorical_variables_a = [col for col in a_az_df.columns if a_az_df[col].nunique() <=50\n",
        "                        and col not in \"label\"]\n",
        "print ('for A to AZ')\n",
        "print(categorical_variables_a)"
      ]
    },
    {
      "cell_type": "code",
      "execution_count": 21,
      "metadata": {},
      "outputs": [
        {
          "name": "stdout",
          "output_type": "stream",
          "text": [
            "for BA to CZ\n",
            "['iso_funds_code', 'special_tag', 'tms_settlement_location', 'portfolio_report_option', 'receive_general_mailings', 'loan_limit_override', 'has_discrete_auth', 'is_non_objecting_beneficial_owner', 'is_objecting_to_disclose_info', 'mailing_consent', 'consent_to_pay_for_mail', 'consent_to_email_delivery', 'has_received_instruction', 'is_inventory_account', 'is_extract_eligible', 'is_pledged', 'special_fee_code', 'non_calendar_year_end', 'is_resp', 'number_of_beneficiaries', 'use_original_date_for_payment_calc', 'is_family_resp', 'is_hrdc_resp', 'resp_specimen_plan', 'is_olob', 'visible_in_reports', 'Medium-High', 'Liquidity', 'Safety']\n"
          ]
        }
      ],
      "source": [
        "# Categorical Variables\n",
        "categorical_variables_ba = [col for col in df_eda.columns if df_eda[col].nunique() <=50\n",
        "                        and col not in \"label\"]\n",
        "print ('for BA to CZ')\n",
        "print(categorical_variables_ba)"
      ]
    },
    {
      "cell_type": "code",
      "execution_count": 22,
      "metadata": {},
      "outputs": [
        {
          "name": "stdout",
          "output_type": "stream",
          "text": [
            "for A to AZ\n",
            "['class_id', 'inception_date', 'deceased_fair_market_value']\n"
          ]
        }
      ],
      "source": [
        "# Numerical Variables\n",
        "numeric_variables_a = [col for col in a_az_df.columns if a_az_df[col].dtype != \"object\"\n",
        "                        and a_az_df[col].nunique() >50]\n",
        "print ('for A to AZ')\n",
        "print(numeric_variables_a)"
      ]
    },
    {
      "cell_type": "code",
      "execution_count": 23,
      "metadata": {},
      "outputs": [
        {
          "name": "stdout",
          "output_type": "stream",
          "text": [
            "for BA to CZ\n",
            "['last_update_date', 'last_maintenance_time', 'last_maintenance_user', 'plan_effective_date', 'plan_end_date', 'rrif_original_date', 'inserted_at', 'updated_at', 'retail_last_maintenance_time', 'retail_last_maintenance_user', 'Low', 'Medium', 'High', 'Income', 'Growth', 'Speculative']\n"
          ]
        }
      ],
      "source": [
        "# Numerical Variables\n",
        "numeric_variables_ba = [col for col in df_eda.columns if df_eda[col].dtype != \"object\"\n",
        "                        and df_eda[col].nunique() >50]\n",
        "print ('for BA to CZ')\n",
        "print(numeric_variables_ba)"
      ]
    },
    {
      "cell_type": "code",
      "execution_count": 24,
      "metadata": {},
      "outputs": [],
      "source": [
        "categorical_variables_ba.append('last_maintenance_user')\n",
        "categorical_variables_ba.append('retail_last_maintenance_user')\n",
        "categorical_variables_ba.remove('Medium-High')\n",
        "categorical_variables_ba.remove('Liquidity')\n",
        "categorical_variables_ba.remove('Safety')\n",
        "\n",
        "numeric_variables_ba.remove('last_maintenance_user')\n",
        "numeric_variables_ba.remove('retail_last_maintenance_user')\n",
        "numeric_variables_ba.append('Medium-High')\n",
        "numeric_variables_ba.append('Liquidity')\n",
        "numeric_variables_ba.append('Safety')\n"
      ]
    },
    {
      "attachments": {},
      "cell_type": "markdown",
      "metadata": {},
      "source": [
        "#### 2.2 Dependent Variable (Churn or No Churn)"
      ]
    },
    {
      "cell_type": "code",
      "execution_count": 25,
      "metadata": {},
      "outputs": [
        {
          "data": {
            "text/plain": [
              "1    538444\n",
              "0    134895\n",
              "Name: label, dtype: int64"
            ]
          },
          "execution_count": 25,
          "metadata": {},
          "output_type": "execute_result"
        }
      ],
      "source": [
        "# Frequency of classes of our dependent variable, where 1 - Churn, 0 - No Churn\n",
        "training_df[\"label\"].value_counts()"
      ]
    },
    {
      "cell_type": "code",
      "execution_count": 26,
      "metadata": {},
      "outputs": [],
      "source": [
        "# Customers who churned\n",
        "churn_df = training_df.loc[training_df['label']== 1]"
      ]
    },
    {
      "cell_type": "code",
      "execution_count": 27,
      "metadata": {},
      "outputs": [],
      "source": [
        "# Customers who did not churn\n",
        "no_churn_df = training_df.loc[training_df['label']== 0]"
      ]
    },
    {
      "attachments": {},
      "cell_type": "markdown",
      "metadata": {},
      "source": [
        "#### 2.3 Categorical Variables"
      ]
    },
    {
      "cell_type": "code",
      "execution_count": 28,
      "metadata": {},
      "outputs": [],
      "source": [
        "def eda_func_cat(col_name):\n",
        "    print('-----------' + col_name + '-----------')\n",
        "    print('churn:')\n",
        "    print(churn_df[col_name].value_counts().sort_values())\n",
        "    print('no churn:')\n",
        "    print(no_churn_df[col_name].value_counts().sort_values())"
      ]
    },
    {
      "cell_type": "code",
      "execution_count": 29,
      "metadata": {},
      "outputs": [
        {
          "name": "stdout",
          "output_type": "stream",
          "text": [
            "-----------type_code-----------\n",
            "churn:\n",
            " 6           6\n",
            " 4          30\n",
            "-999       236\n",
            " 2         248\n",
            " 7         263\n",
            " 5         445\n",
            " 12        931\n",
            " 16       1583\n",
            " 9        3198\n",
            " 17       6149\n",
            " 3        7748\n",
            " 11       7984\n",
            " 18      11453\n",
            " 14      13663\n",
            " 8       16201\n",
            " 15      26281\n",
            " 10      32089\n",
            " 13      65843\n",
            " 19      72998\n",
            " 1       80296\n",
            " 0      190799\n",
            "Name: type_code, dtype: int64\n",
            "no churn:\n",
            "-999        1\n",
            " 2          1\n",
            " 16         1\n",
            " 6          5\n",
            " 1         11\n",
            " 0         12\n",
            " 10        26\n",
            " 7        150\n",
            " 12       206\n",
            " 17      2829\n",
            " 11      3998\n",
            " 14      9063\n",
            " 18     10432\n",
            " 8      12089\n",
            " 15     12621\n",
            " 19     35075\n",
            " 13     48375\n",
            "Name: type_code, dtype: int64\n",
            "-----------branch-----------\n",
            "churn:\n",
            " 6           1\n",
            " 7          70\n",
            " 3         320\n",
            " 1         655\n",
            " 8        2905\n",
            "-999      3198\n",
            " 0        4101\n",
            " 2       53511\n",
            " 4       79888\n",
            " 5      393795\n",
            "Name: branch, dtype: int64\n",
            "no churn:\n",
            "7         6\n",
            "3        31\n",
            "1       403\n",
            "8      1206\n",
            "0      3767\n",
            "2     12169\n",
            "4     15397\n",
            "5    101916\n",
            "Name: branch, dtype: int64\n",
            "-----------credit_limit_type-----------\n",
            "churn:\n",
            " 2.0           1\n",
            " 7.0           1\n",
            " 3.0           5\n",
            " 9.0          45\n",
            "-999.0      3198\n",
            " 0.0      535194\n",
            "Name: credit_limit_type, dtype: int64\n",
            "no churn:\n",
            "0.0    134895\n",
            "Name: credit_limit_type, dtype: int64\n",
            "-----------is_arp_locked-----------\n",
            "churn:\n",
            "1     16551\n",
            "0    521893\n",
            "Name: is_arp_locked, dtype: int64\n",
            "no churn:\n",
            "1     12334\n",
            "0    122561\n",
            "Name: is_arp_locked, dtype: int64\n",
            "-----------options_trading_type-----------\n",
            "churn:\n",
            " 7.0           2\n",
            " 1.0         372\n",
            " 3.0         611\n",
            " 4.0        1616\n",
            "-999.0      3198\n",
            " 2.0        9624\n",
            " 0.0      523021\n",
            "Name: options_trading_type, dtype: int64\n",
            "no churn:\n",
            "3.0        19\n",
            "4.0        26\n",
            "1.0        83\n",
            "2.0      4078\n",
            "0.0    130689\n",
            "Name: options_trading_type, dtype: int64\n",
            "-----------interest_dividend_conversion_type-----------\n",
            "churn:\n",
            " 1.0        1552\n",
            "-999.0      3198\n",
            " 0.0      533694\n",
            "Name: interest_dividend_conversion_type, dtype: int64\n",
            "no churn:\n",
            "1.0        11\n",
            "0.0    134884\n",
            "Name: interest_dividend_conversion_type, dtype: int64\n",
            "-----------guarantee_gtor_type-----------\n",
            "churn:\n",
            " 1.0          15\n",
            "-999.0      3198\n",
            " 3.0       13691\n",
            " 2.0      230161\n",
            " 0.0      291379\n",
            "Name: guarantee_gtor_type, dtype: int64\n",
            "no churn:\n",
            "0.0        11\n",
            "3.0        23\n",
            "2.0    134861\n",
            "Name: guarantee_gtor_type, dtype: int64\n",
            "-----------is_spousal_transfer-----------\n",
            "churn:\n",
            "1        96\n",
            "0    538348\n",
            "Name: is_spousal_transfer, dtype: int64\n",
            "no churn:\n",
            "1        28\n",
            "0    134867\n",
            "Name: is_spousal_transfer, dtype: int64\n",
            "-----------discretionary_trading_authorized-----------\n",
            "churn:\n",
            "1      9090\n",
            "0    529354\n",
            "Name: discretionary_trading_authorized, dtype: int64\n",
            "no churn:\n",
            "1      5159\n",
            "0    129736\n",
            "Name: discretionary_trading_authorized, dtype: int64\n"
          ]
        }
      ],
      "source": [
        "for col in categorical_variables_a:\n",
        "    eda_func_cat(col)"
      ]
    },
    {
      "cell_type": "code",
      "execution_count": 30,
      "metadata": {},
      "outputs": [
        {
          "name": "stdout",
          "output_type": "stream",
          "text": [
            "-----------iso_funds_code-----------\n",
            "churn:\n",
            "-999      3198\n",
            " 1       36060\n",
            " 0      499186\n",
            "Name: iso_funds_code, dtype: int64\n",
            "no churn:\n",
            "1      2098\n",
            "0    132797\n",
            "Name: iso_funds_code, dtype: int64\n",
            "-----------special_tag-----------\n",
            "churn:\n",
            " 7          11\n",
            " 0          11\n",
            " 6          44\n",
            " 2          59\n",
            " 1         300\n",
            " 5         411\n",
            " 3        2169\n",
            " 4       39131\n",
            "-999    496308\n",
            "Name: special_tag, dtype: int64\n",
            "no churn:\n",
            " 7           1\n",
            " 6           3\n",
            " 5           5\n",
            " 0           6\n",
            " 1          16\n",
            " 3         172\n",
            " 4        4091\n",
            "-999    130601\n",
            "Name: special_tag, dtype: int64\n",
            "-----------tms_settlement_location-----------\n",
            "churn:\n",
            " 3           2\n",
            " 2           3\n",
            " 8           4\n",
            " 9           7\n",
            " 10          9\n",
            " 11          9\n",
            " 13         10\n",
            " 6          12\n",
            " 0         137\n",
            " 4         138\n",
            " 5         145\n",
            " 7         360\n",
            " 1        2142\n",
            " 12       4771\n",
            "-999    530695\n",
            "Name: tms_settlement_location, dtype: int64\n",
            "no churn:\n",
            "-999    134895\n",
            "Name: tms_settlement_location, dtype: int64\n",
            "-----------portfolio_report_option-----------\n",
            "churn:\n",
            " 1           1\n",
            " 2           2\n",
            " 3           2\n",
            "-999      3198\n",
            " 0      535241\n",
            "Name: portfolio_report_option, dtype: int64\n",
            "no churn:\n",
            "2         1\n",
            "0    134894\n",
            "Name: portfolio_report_option, dtype: int64\n",
            "-----------receive_general_mailings-----------\n",
            "churn:\n",
            "0      3250\n",
            "1    535194\n",
            "Name: receive_general_mailings, dtype: int64\n",
            "no churn:\n",
            "0        11\n",
            "1    134884\n",
            "Name: receive_general_mailings, dtype: int64\n",
            "-----------loan_limit_override-----------\n",
            "churn:\n",
            " 2           1\n",
            " 0           2\n",
            " 1       31079\n",
            "-999    507362\n",
            "Name: loan_limit_override, dtype: int64\n",
            "no churn:\n",
            " 1          63\n",
            "-999    134832\n",
            "Name: loan_limit_override, dtype: int64\n",
            "-----------has_discrete_auth-----------\n",
            "churn:\n",
            "0    538444\n",
            "Name: has_discrete_auth, dtype: int64\n",
            "no churn:\n",
            "0    134895\n",
            "Name: has_discrete_auth, dtype: int64\n",
            "-----------is_non_objecting_beneficial_owner-----------\n",
            "churn:\n",
            "1    230220\n",
            "0    308224\n",
            "Name: is_non_objecting_beneficial_owner, dtype: int64\n",
            "no churn:\n",
            "1    62751\n",
            "0    72144\n",
            "Name: is_non_objecting_beneficial_owner, dtype: int64\n",
            "-----------is_objecting_to_disclose_info-----------\n",
            "churn:\n",
            "1    207643\n",
            "0    330801\n",
            "Name: is_objecting_to_disclose_info, dtype: int64\n",
            "no churn:\n",
            "1    62408\n",
            "0    72487\n",
            "Name: is_objecting_to_disclose_info, dtype: int64\n",
            "-----------mailing_consent-----------\n",
            "churn:\n",
            "1.0      3344\n",
            "0.0    531902\n",
            "Name: mailing_consent, dtype: int64\n",
            "no churn:\n",
            "1.0      1137\n",
            "0.0    133758\n",
            "Name: mailing_consent, dtype: int64\n",
            "-----------consent_to_pay_for_mail-----------\n",
            "churn:\n",
            "1     51028\n",
            "0    487416\n",
            "Name: consent_to_pay_for_mail, dtype: int64\n",
            "no churn:\n",
            "1     22061\n",
            "0    112834\n",
            "Name: consent_to_pay_for_mail, dtype: int64\n",
            "-----------consent_to_email_delivery-----------\n",
            "churn:\n",
            "1       122\n",
            "0    538322\n",
            "Name: consent_to_email_delivery, dtype: int64\n",
            "no churn:\n",
            "1        27\n",
            "0    134868\n",
            "Name: consent_to_email_delivery, dtype: int64\n",
            "-----------has_received_instruction-----------\n",
            "churn:\n",
            "0    101508\n",
            "1    436936\n",
            "Name: has_received_instruction, dtype: int64\n",
            "no churn:\n",
            "0     10040\n",
            "1    124855\n",
            "Name: has_received_instruction, dtype: int64\n",
            "-----------is_inventory_account-----------\n",
            "churn:\n",
            "1       103\n",
            "0    538341\n",
            "Name: is_inventory_account, dtype: int64\n",
            "no churn:\n",
            "0    134895\n",
            "Name: is_inventory_account, dtype: int64\n",
            "-----------is_extract_eligible-----------\n",
            "churn:\n",
            "0      3267\n",
            "1    535177\n",
            "Name: is_extract_eligible, dtype: int64\n",
            "no churn:\n",
            "0        69\n",
            "1    134826\n",
            "Name: is_extract_eligible, dtype: int64\n",
            "-----------is_pledged-----------\n",
            "churn:\n",
            "1         2\n",
            "0    538442\n",
            "Name: is_pledged, dtype: int64\n",
            "no churn:\n",
            "1         1\n",
            "0    134894\n",
            "Name: is_pledged, dtype: int64\n",
            "-----------special_fee_code-----------\n",
            "churn:\n",
            "BR      1\n",
            "EN      1\n",
            "ZE      1\n",
            "2       1\n",
            "4.0     1\n",
            "/S      1\n",
            "E       1\n",
            "NE      1\n",
            "0.0     1\n",
            "RO      1\n",
            "9.0     1\n",
            "RR      1\n",
            "DF      1\n",
            "7.0     1\n",
            "B       1\n",
            "OR      1\n",
            "87.0    1\n",
            "19.0    1\n",
            "3.0     2\n",
            "8.0     2\n",
            "6.0     2\n",
            "3.0     2\n",
            "1.0     3\n",
            "N       3\n",
            "2.0     3\n",
            "5.0     3\n",
            "Name: special_fee_code, dtype: int64\n",
            "no churn:\n",
            "4.0      1\n",
            "OU       1\n",
            "42.0     1\n",
            ":        1\n",
            "7.0      1\n",
            "2.0      1\n",
            "1.0      1\n",
            "63.0     1\n",
            "1        1\n",
            "0.0      1\n",
            "VI       1\n",
            "O        1\n",
            "EN       1\n",
            "AN       1\n",
            "8.0      2\n",
            "3.0      2\n",
            "N       12\n",
            "Name: special_fee_code, dtype: int64\n",
            "-----------non_calendar_year_end-----------\n",
            "churn:\n",
            "0.0        182\n",
            "0         6059\n",
            "00/0     17846\n",
            "0000    197411\n",
            "Name: non_calendar_year_end, dtype: int64\n",
            "no churn:\n",
            "0.0         1\n",
            "0         497\n",
            "00/0    40413\n",
            "0000    93945\n",
            "Name: non_calendar_year_end, dtype: int64\n",
            "-----------is_resp-----------\n",
            "churn:\n",
            "1     13677\n",
            "0    524767\n",
            "Name: is_resp, dtype: int64\n",
            "no churn:\n",
            "1      9067\n",
            "0    125828\n",
            "Name: is_resp, dtype: int64\n",
            "-----------number_of_beneficiaries-----------\n",
            "churn:\n",
            "15.0         1\n",
            "10.0         1\n",
            "9.0          3\n",
            "8.0          4\n",
            "7.0          9\n",
            "6.0         14\n",
            "5.0         66\n",
            "4.0        332\n",
            "3.0       1689\n",
            "2.0       5742\n",
            "1.0       5793\n",
            "0.0     524790\n",
            "Name: number_of_beneficiaries, dtype: int64\n",
            "no churn:\n",
            "24.0         1\n",
            "8.0          4\n",
            "9.0          4\n",
            "7.0          4\n",
            "6.0         13\n",
            "5.0         41\n",
            "4.0        246\n",
            "3.0       1079\n",
            "2.0       3691\n",
            "1.0       3981\n",
            "0.0     125831\n",
            "Name: number_of_beneficiaries, dtype: int64\n",
            "-----------use_original_date_for_payment_calc-----------\n",
            "churn:\n",
            "1     13651\n",
            "0    524793\n",
            "Name: use_original_date_for_payment_calc, dtype: int64\n",
            "no churn:\n",
            "1      9016\n",
            "0    125879\n",
            "Name: use_original_date_for_payment_calc, dtype: int64\n",
            "-----------is_family_resp-----------\n",
            "churn:\n",
            "1     10262\n",
            "0    528182\n",
            "Name: is_family_resp, dtype: int64\n",
            "no churn:\n",
            "1      6438\n",
            "0    128457\n",
            "Name: is_family_resp, dtype: int64\n",
            "-----------is_hrdc_resp-----------\n",
            "churn:\n",
            "1     13336\n",
            "0    525108\n",
            "Name: is_hrdc_resp, dtype: int64\n",
            "no churn:\n",
            "1      8707\n",
            "0    126188\n",
            "Name: is_hrdc_resp, dtype: int64\n",
            "-----------resp_specimen_plan-----------\n",
            "churn:\n",
            "1059001.0        4\n",
            "1114002.0      117\n",
            "1114001.0      249\n",
            "1008003.0     3265\n",
            "1008002.0    10021\n",
            "Name: resp_specimen_plan, dtype: int64\n",
            "no churn:\n",
            "1027002.0       1\n",
            "1059001.0      14\n",
            "1114002.0     515\n",
            "1114001.0    1171\n",
            "1008003.0    2088\n",
            "1008002.0    5276\n",
            "Name: resp_specimen_plan, dtype: int64\n",
            "-----------is_olob-----------\n",
            "churn:\n",
            "1      3030\n",
            "0    535414\n",
            "Name: is_olob, dtype: int64\n",
            "no churn:\n",
            "0    134895\n",
            "Name: is_olob, dtype: int64\n",
            "-----------visible_in_reports-----------\n",
            "churn:\n",
            "0    169821\n",
            "1    368623\n",
            "Name: visible_in_reports, dtype: int64\n",
            "no churn:\n",
            "1         1\n",
            "0    134894\n",
            "Name: visible_in_reports, dtype: int64\n",
            "-----------last_maintenance_user-----------\n",
            "churn:\n",
            "200         1\n",
            "150         1\n",
            "78          1\n",
            "251         1\n",
            "316         1\n",
            "        ...  \n",
            "154     24879\n",
            "202     25982\n",
            "177     38786\n",
            "28      98027\n",
            "387    111132\n",
            "Name: last_maintenance_user, Length: 396, dtype: int64\n",
            "no churn:\n",
            "105        1\n",
            "22         1\n",
            "395        1\n",
            "32         1\n",
            "377        1\n",
            "       ...  \n",
            "164     4960\n",
            "177    13780\n",
            "202    18034\n",
            "387    20838\n",
            "28     30419\n",
            "Name: last_maintenance_user, Length: 326, dtype: int64\n",
            "-----------retail_last_maintenance_user-----------\n",
            "churn:\n",
            " 74          1\n",
            " 295         1\n",
            " 24          1\n",
            " 78          1\n",
            " 293         1\n",
            "         ...  \n",
            " 83       8093\n",
            " 336      8299\n",
            " 374     50091\n",
            " 25      60877\n",
            "-999    317079\n",
            "Name: retail_last_maintenance_user, Length: 340, dtype: int64\n",
            "no churn:\n",
            "62         1\n",
            "334        1\n",
            "259        1\n",
            "191        1\n",
            "381        1\n",
            "       ...  \n",
            "163     5264\n",
            "151     5435\n",
            "179     8861\n",
            "374    25003\n",
            "25     42098\n",
            "Name: retail_last_maintenance_user, Length: 380, dtype: int64\n"
          ]
        }
      ],
      "source": [
        "for col in categorical_variables_ba:\n",
        "    eda_func_cat(col)"
      ]
    },
    {
      "cell_type": "code",
      "execution_count": 34,
      "metadata": {},
      "outputs": [],
      "source": [
        "def eda_func_num_ba(col_name):\n",
        "    print('-----------' + col_name + '-----------')\n",
        "\n",
        "    print('churn:')\n",
        "    print(churn_df[col_name].describe([0.05,0.25,0.50,0.75,0.90,0.95,0.99]))\n",
        "    pyplot.figure(figsize=(8,6))\n",
        "    pyplot.xlabel(col_name)\n",
        "    pyplot.hist(churn_df[col_name],bins=15, alpha=0.7, label='Churn')\n",
        "    pyplot.legend(loc='upper right')\n",
        "    pyplot.show()\n",
        "\n",
        "    print('no churn:')\n",
        "    print(no_churn_df[col_name].describe([0.05,0.25,0.50,0.75,0.90,0.95,0.99]))\n",
        "    pyplot.figure(figsize=(8,6))\n",
        "    pyplot.xlabel(col_name)\n",
        "    pyplot.hist(no_churn_df[col_name],bins=15, alpha=0.7, label='Not Churn')\n",
        "    pyplot.legend(loc='upper right')\n",
        "    pyplot.show()\n",
        "\n",
        "    sns.catplot(\"label\", col_name, data = df_eda)\n",
        "\n"
      ]
    },
    {
      "cell_type": "code",
      "execution_count": 35,
      "metadata": {},
      "outputs": [],
      "source": [
        "a_az_df['label'] = df_eda['label']"
      ]
    },
    {
      "cell_type": "code",
      "execution_count": 36,
      "metadata": {},
      "outputs": [],
      "source": [
        "def eda_func_num_a(col_name):\n",
        "    print('-----------' + col_name + '-----------')\n",
        "\n",
        "    print('churn:')\n",
        "    print(churn_df[col_name].describe([0.05,0.25,0.50,0.75,0.90,0.95,0.99]))\n",
        "    pyplot.figure(figsize=(8,6))\n",
        "    pyplot.xlabel(col_name)\n",
        "    pyplot.hist(churn_df[col_name],bins=15, alpha=0.7, label='Churn')\n",
        "    pyplot.legend(loc='upper right')\n",
        "    pyplot.show()\n",
        "\n",
        "    print('no churn:')\n",
        "    print(no_churn_df[col_name].describe([0.05,0.25,0.50,0.75,0.90,0.95,0.99]))\n",
        "    pyplot.figure(figsize=(8,6))\n",
        "    pyplot.xlabel(col_name)\n",
        "    pyplot.hist(no_churn_df[col_name],bins=15, alpha=0.7, label='Not Churn')\n",
        "    pyplot.legend(loc='upper right')\n",
        "    pyplot.show()\n",
        "\n",
        "    sns.catplot(\"label\", col_name, data = a_az_df)\n"
      ]
    },
    {
      "cell_type": "code",
      "execution_count": 37,
      "metadata": {},
      "outputs": [
        {
          "name": "stdout",
          "output_type": "stream",
          "text": [
            "-----------class_id-----------\n",
            "churn:\n",
            "count    538444.000000\n",
            "mean         -1.661029\n",
            "std          77.169342\n",
            "min        -999.000000\n",
            "5%            3.000000\n",
            "25%           3.000000\n",
            "50%           3.000000\n",
            "75%           5.000000\n",
            "90%           5.000000\n",
            "95%           6.000000\n",
            "99%          10.000000\n",
            "max          75.000000\n",
            "Name: class_id, dtype: float64\n"
          ]
        },
        {
          "data": {
            "image/png": "[encoded data removed]",
            "text/plain": [
              "<Figure size 576x432 with 1 Axes>"
            ]
          },
          "metadata": {
            "needs_background": "light"
          },
          "output_type": "display_data"
        },
        {
          "name": "stdout",
          "output_type": "stream",
          "text": [
            "no churn:\n",
            "count    134895.000000\n",
            "mean          5.000371\n",
            "std           0.134327\n",
            "min           3.000000\n",
            "5%            5.000000\n",
            "25%           5.000000\n",
            "50%           5.000000\n",
            "75%           5.000000\n",
            "90%           5.000000\n",
            "95%           5.000000\n",
            "99%           5.000000\n",
            "max          29.000000\n",
            "Name: class_id, dtype: float64\n"
          ]
        },
        {
          "data": {
            "image/png": "[encoded data removed]",
            "text/plain": [
              "<Figure size 576x432 with 1 Axes>"
            ]
          },
          "metadata": {
            "needs_background": "light"
          },
          "output_type": "display_data"
        },
        {
          "name": "stderr",
          "output_type": "stream",
          "text": [
            "/Users/cherryyang/opt/anaconda3/lib/python3.9/site-packages/seaborn/_decorators.py:36: FutureWarning: Pass the following variables as keyword args: x, y. From version 0.12, the only valid positional argument will be `data`, and passing other arguments without an explicit keyword will result in an error or misinterpretation.\n",
            "  warnings.warn(\n"
          ]
        },
        {
          "name": "stdout",
          "output_type": "stream",
          "text": [
            "-----------inception_date-----------\n",
            "churn:\n",
            "count    538444.000000\n",
            "mean          0.809442\n",
            "std           0.138693\n",
            "min           0.000000\n",
            "5%            0.524930\n",
            "25%           0.806311\n",
            "50%           0.808752\n",
            "75%           0.889296\n",
            "90%           0.954585\n",
            "95%           0.978818\n",
            "99%           0.996077\n",
            "max           1.000000\n",
            "Name: inception_date, dtype: float64\n"
          ]
        },
        {
          "data": {
            "image/png": "[encoded data removed]",
            "text/plain": [
              "<Figure size 360x360 with 1 Axes>"
            ]
          },
          "metadata": {
            "needs_background": "light"
          },
          "output_type": "display_data"
        },
        {
          "data": {
            "image/png": "[encoded data removed]",
            "text/plain": [
              "<Figure size 576x432 with 1 Axes>"
            ]
          },
          "metadata": {
            "needs_background": "light"
          },
          "output_type": "display_data"
        },
        {
          "name": "stdout",
          "output_type": "stream",
          "text": [
            "no churn:\n",
            "count    134895.000000\n",
            "mean          0.768119\n",
            "std           0.117686\n",
            "min           0.120206\n",
            "5%            0.514993\n",
            "25%           0.778679\n",
            "50%           0.806311\n",
            "75%           0.806311\n",
            "90%           0.867329\n",
            "95%           0.904899\n",
            "99%           0.956154\n",
            "max           0.998954\n",
            "Name: inception_date, dtype: float64\n"
          ]
        },
        {
          "data": {
            "image/png": "[encoded data removed]",
            "text/plain": [
              "<Figure size 576x432 with 1 Axes>"
            ]
          },
          "metadata": {
            "needs_background": "light"
          },
          "output_type": "display_data"
        },
        {
          "name": "stderr",
          "output_type": "stream",
          "text": [
            "/Users/cherryyang/opt/anaconda3/lib/python3.9/site-packages/seaborn/_decorators.py:36: FutureWarning: Pass the following variables as keyword args: x, y. From version 0.12, the only valid positional argument will be `data`, and passing other arguments without an explicit keyword will result in an error or misinterpretation.\n",
            "  warnings.warn(\n"
          ]
        },
        {
          "name": "stdout",
          "output_type": "stream",
          "text": [
            "-----------deceased_fair_market_value-----------\n",
            "churn:\n",
            "count    538444.00000\n",
            "mean          0.53809\n",
            "std          23.29564\n",
            "min           0.00000\n",
            "5%            0.00000\n",
            "25%           0.00000\n",
            "50%           0.00000\n",
            "75%           0.00000\n",
            "90%           0.00000\n",
            "95%           0.00000\n",
            "99%           0.00000\n",
            "max        3493.74000\n",
            "Name: deceased_fair_market_value, dtype: float64\n"
          ]
        },
        {
          "data": {
            "image/png": "[encoded data removed]",
            "text/plain": [
              "<Figure size 360x360 with 1 Axes>"
            ]
          },
          "metadata": {
            "needs_background": "light"
          },
          "output_type": "display_data"
        },
        {
          "data": {
            "image/png": "[encoded data removed]",
            "text/plain": [
              "<Figure size 576x432 with 1 Axes>"
            ]
          },
          "metadata": {
            "needs_background": "light"
          },
          "output_type": "display_data"
        },
        {
          "name": "stdout",
          "output_type": "stream",
          "text": [
            "no churn:\n",
            "count    134895.000000\n",
            "mean          8.698001\n",
            "std          92.143642\n",
            "min           0.000000\n",
            "5%            0.000000\n",
            "25%           0.000000\n",
            "50%           0.000000\n",
            "75%           0.000000\n",
            "90%           0.000000\n",
            "95%           0.000000\n",
            "99%         316.830800\n",
            "max        3481.280000\n",
            "Name: deceased_fair_market_value, dtype: float64\n"
          ]
        },
        {
          "data": {
            "image/png": "[encoded data removed]",
            "text/plain": [
              "<Figure size 576x432 with 1 Axes>"
            ]
          },
          "metadata": {
            "needs_background": "light"
          },
          "output_type": "display_data"
        },
        {
          "name": "stderr",
          "output_type": "stream",
          "text": [
            "/Users/cherryyang/opt/anaconda3/lib/python3.9/site-packages/seaborn/_decorators.py:36: FutureWarning: Pass the following variables as keyword args: x, y. From version 0.12, the only valid positional argument will be `data`, and passing other arguments without an explicit keyword will result in an error or misinterpretation.\n",
            "  warnings.warn(\n"
          ]
        },
        {
          "data": {
            "image/png": "[encoded data removed]",
            "text/plain": [
              "<Figure size 360x360 with 1 Axes>"
            ]
          },
          "metadata": {
            "needs_background": "light"
          },
          "output_type": "display_data"
        }
      ],
      "source": [
        "for col in numeric_variables_a:\n",
        "    eda_func_num_a(col)"
      ]
    },
    {
      "cell_type": "code",
      "execution_count": null,
      "metadata": {},
      "outputs": [
        {
          "name": "stdout",
          "output_type": "stream",
          "text": [
            "-----------last_update_date-----------\n",
            "churn:\n",
            "count    538444.000000\n",
            "mean          0.644739\n",
            "std           0.350955\n",
            "min           0.000000\n",
            "5%            0.000000\n",
            "25%           0.466161\n",
            "50%           0.786140\n",
            "75%           0.913914\n",
            "90%           0.963590\n",
            "95%           0.981050\n",
            "99%           0.996481\n",
            "max           1.000000\n",
            "Name: last_update_date, dtype: float64\n"
          ]
        },
        {
          "data": {
            "image/png": "[encoded data removed]",
            "text/plain": [
              "<Figure size 576x432 with 1 Axes>"
            ]
          },
          "metadata": {
            "needs_background": "light"
          },
          "output_type": "display_data"
        },
        {
          "name": "stdout",
          "output_type": "stream",
          "text": [
            "no churn:\n",
            "count    134895.000000\n",
            "mean          0.631880\n",
            "std           0.242575\n",
            "min           0.000000\n",
            "5%            0.000000\n",
            "25%           0.561722\n",
            "50%           0.699648\n",
            "75%           0.772604\n",
            "90%           0.859773\n",
            "95%           0.912019\n",
            "99%           0.963048\n",
            "max           0.999594\n",
            "Name: last_update_date, dtype: float64\n"
          ]
        },
        {
          "data": {
            "image/png": "[encoded data removed]",
            "text/plain": [
              "<Figure size 576x432 with 1 Axes>"
            ]
          },
          "metadata": {
            "needs_background": "light"
          },
          "output_type": "display_data"
        },
        {
          "name": "stderr",
          "output_type": "stream",
          "text": [
            "/Users/cloriszhang/opt/anaconda3/lib/python3.9/site-packages/seaborn/_decorators.py:36: FutureWarning: Pass the following variables as keyword args: x, y. From version 0.12, the only valid positional argument will be `data`, and passing other arguments without an explicit keyword will result in an error or misinterpretation.\n",
            "  warnings.warn(\n"
          ]
        },
        {
          "name": "stdout",
          "output_type": "stream",
          "text": [
            "-----------last_maintenance_time-----------\n",
            "churn:\n",
            "count    538444.000000\n",
            "mean          0.809452\n",
            "std           0.182324\n",
            "min           0.000000\n",
            "5%            0.422544\n",
            "25%           0.726209\n",
            "50%           0.849091\n",
            "75%           0.940561\n",
            "90%           0.977518\n",
            "95%           0.989529\n",
            "99%           0.997844\n",
            "max           1.000000\n",
            "Name: last_maintenance_time, dtype: float64\n"
          ]
        },
        {
          "data": {
            "image/png": "[encoded data removed]",
            "text/plain": [
              "<Figure size 360x360 with 1 Axes>"
            ]
          },
          "metadata": {
            "needs_background": "light"
          },
          "output_type": "display_data"
        },
        {
          "data": {
            "image/png": "[encoded data removed]",
            "text/plain": [
              "<Figure size 576x432 with 1 Axes>"
            ]
          },
          "metadata": {
            "needs_background": "light"
          },
          "output_type": "display_data"
        },
        {
          "name": "stdout",
          "output_type": "stream",
          "text": [
            "no churn:\n",
            "count    134895.000000\n",
            "mean          0.751309\n",
            "std           0.196081\n",
            "min           0.003080\n",
            "5%            0.382507\n",
            "25%           0.726209\n",
            "50%           0.737296\n",
            "75%           0.898676\n",
            "90%           0.959963\n",
            "95%           0.981213\n",
            "99%           0.995996\n",
            "max           1.000000\n",
            "Name: last_maintenance_time, dtype: float64\n"
          ]
        },
        {
          "data": {
            "image/png": "[encoded data removed]",
            "text/plain": [
              "<Figure size 576x432 with 1 Axes>"
            ]
          },
          "metadata": {
            "needs_background": "light"
          },
          "output_type": "display_data"
        },
        {
          "name": "stderr",
          "output_type": "stream",
          "text": [
            "/Users/cloriszhang/opt/anaconda3/lib/python3.9/site-packages/seaborn/_decorators.py:36: FutureWarning: Pass the following variables as keyword args: x, y. From version 0.12, the only valid positional argument will be `data`, and passing other arguments without an explicit keyword will result in an error or misinterpretation.\n",
            "  warnings.warn(\n"
          ]
        },
        {
          "name": "stdout",
          "output_type": "stream",
          "text": [
            "-----------plan_effective_date-----------\n",
            "churn:\n",
            "count    538444.000000\n",
            "mean          0.336512\n",
            "std           0.409471\n",
            "min           0.000000\n",
            "5%            0.000000\n",
            "25%           0.000000\n",
            "50%           0.000000\n",
            "75%           0.779847\n",
            "90%           0.909343\n",
            "95%           0.952541\n",
            "99%           0.991677\n",
            "max           1.000000\n",
            "Name: plan_effective_date, dtype: float64\n"
          ]
        },
        {
          "data": {
            "image/png": "[encoded data removed]",
            "text/plain": [
              "<Figure size 360x360 with 1 Axes>"
            ]
          },
          "metadata": {
            "needs_background": "light"
          },
          "output_type": "display_data"
        },
        {
          "data": {
            "image/png": "[encoded data removed]",
            "text/plain": [
              "<Figure size 576x432 with 1 Axes>"
            ]
          },
          "metadata": {
            "needs_background": "light"
          },
          "output_type": "display_data"
        },
        {
          "name": "stdout",
          "output_type": "stream",
          "text": [
            "no churn:\n",
            "count    134895.000000\n",
            "mean          0.736323\n",
            "std           0.134098\n",
            "min           0.000000\n",
            "5%            0.448727\n",
            "25%           0.748390\n",
            "50%           0.779847\n",
            "75%           0.779847\n",
            "90%           0.849103\n",
            "95%           0.891905\n",
            "99%           0.950163\n",
            "max           0.998811\n",
            "Name: plan_effective_date, dtype: float64\n"
          ]
        },
        {
          "data": {
            "image/png": "[encoded data removed]",
            "text/plain": [
              "<Figure size 576x432 with 1 Axes>"
            ]
          },
          "metadata": {
            "needs_background": "light"
          },
          "output_type": "display_data"
        },
        {
          "name": "stderr",
          "output_type": "stream",
          "text": [
            "/Users/cloriszhang/opt/anaconda3/lib/python3.9/site-packages/seaborn/_decorators.py:36: FutureWarning: Pass the following variables as keyword args: x, y. From version 0.12, the only valid positional argument will be `data`, and passing other arguments without an explicit keyword will result in an error or misinterpretation.\n",
            "  warnings.warn(\n"
          ]
        },
        {
          "name": "stdout",
          "output_type": "stream",
          "text": [
            "-----------plan_end_date-----------\n",
            "churn:\n",
            "count    538444.000000\n",
            "mean          0.029262\n",
            "std           0.148246\n",
            "min           0.000000\n",
            "5%            0.000000\n",
            "25%           0.000000\n",
            "50%           0.000000\n",
            "75%           0.000000\n",
            "90%           0.000000\n",
            "95%           0.000000\n",
            "99%           0.860099\n",
            "max           1.000000\n",
            "Name: plan_end_date, dtype: float64\n"
          ]
        },
        {
          "data": {
            "image/png": "[encoded data removed]",
            "text/plain": [
              "<Figure size 360x360 with 1 Axes>"
            ]
          },
          "metadata": {
            "needs_background": "light"
          },
          "output_type": "display_data"
        },
        {
          "data": {
            "image/png": "[encoded data removed]",
            "text/plain": [
              "<Figure size 576x432 with 1 Axes>"
            ]
          },
          "metadata": {
            "needs_background": "light"
          },
          "output_type": "display_data"
        },
        {
          "name": "stdout",
          "output_type": "stream",
          "text": [
            "no churn:\n",
            "count    134895.000000\n",
            "mean          0.746443\n",
            "std           0.168776\n",
            "min           0.000000\n",
            "5%            0.395033\n",
            "25%           0.670364\n",
            "50%           0.748675\n",
            "75%           0.866722\n",
            "90%           0.953642\n",
            "95%           0.978146\n",
            "99%           0.996854\n",
            "max           1.000000\n",
            "Name: plan_end_date, dtype: float64\n"
          ]
        },
        {
          "data": {
            "image/png": "[encoded data removed]",
            "text/plain": [
              "<Figure size 576x432 with 1 Axes>"
            ]
          },
          "metadata": {
            "needs_background": "light"
          },
          "output_type": "display_data"
        },
        {
          "name": "stderr",
          "output_type": "stream",
          "text": [
            "/Users/cloriszhang/opt/anaconda3/lib/python3.9/site-packages/seaborn/_decorators.py:36: FutureWarning: Pass the following variables as keyword args: x, y. From version 0.12, the only valid positional argument will be `data`, and passing other arguments without an explicit keyword will result in an error or misinterpretation.\n",
            "  warnings.warn(\n"
          ]
        },
        {
          "name": "stdout",
          "output_type": "stream",
          "text": [
            "-----------rrif_original_date-----------\n",
            "churn:\n",
            "count    538444.000000\n",
            "mean          0.348901\n",
            "std           0.423101\n",
            "min           0.000000\n",
            "5%            0.000000\n",
            "25%           0.000000\n",
            "50%           0.000000\n",
            "75%           0.829024\n",
            "90%           0.927901\n",
            "95%           0.961911\n",
            "99%           0.993229\n",
            "max           1.000000\n",
            "Name: rrif_original_date, dtype: float64\n"
          ]
        },
        {
          "data": {
            "image/png": "[encoded data removed]",
            "text/plain": [
              "<Figure size 360x360 with 1 Axes>"
            ]
          },
          "metadata": {
            "needs_background": "light"
          },
          "output_type": "display_data"
        },
        {
          "data": {
            "image/png": "[encoded data removed]",
            "text/plain": [
              "<Figure size 576x432 with 1 Axes>"
            ]
          },
          "metadata": {
            "needs_background": "light"
          },
          "output_type": "display_data"
        },
        {
          "name": "stdout",
          "output_type": "stream",
          "text": [
            "no churn:\n",
            "count    134895.000000\n",
            "mean          0.780709\n",
            "std           0.124340\n",
            "min           0.000000\n",
            "5%            0.496999\n",
            "25%           0.750693\n",
            "50%           0.829024\n",
            "75%           0.829024\n",
            "90%           0.881656\n",
            "95%           0.915436\n",
            "99%           0.960680\n",
            "max           0.999077\n",
            "Name: rrif_original_date, dtype: float64\n"
          ]
        },
        {
          "data": {
            "image/png": "[encoded data removed]",
            "text/plain": [
              "<Figure size 576x432 with 1 Axes>"
            ]
          },
          "metadata": {
            "needs_background": "light"
          },
          "output_type": "display_data"
        },
        {
          "name": "stderr",
          "output_type": "stream",
          "text": [
            "/Users/cloriszhang/opt/anaconda3/lib/python3.9/site-packages/seaborn/_decorators.py:36: FutureWarning: Pass the following variables as keyword args: x, y. From version 0.12, the only valid positional argument will be `data`, and passing other arguments without an explicit keyword will result in an error or misinterpretation.\n",
            "  warnings.warn(\n"
          ]
        },
        {
          "name": "stdout",
          "output_type": "stream",
          "text": [
            "-----------inserted_at-----------\n",
            "churn:\n",
            "count    538444.000000\n",
            "mean          0.009609\n",
            "std           0.079048\n",
            "min           0.000000\n",
            "5%            0.000000\n",
            "25%           0.000000\n",
            "50%           0.000000\n",
            "75%           0.000000\n",
            "90%           0.000000\n",
            "95%           0.000000\n",
            "99%           0.497206\n",
            "max           1.000000\n",
            "Name: inserted_at, dtype: float64\n"
          ]
        },
        {
          "data": {
            "image/png": "[encoded data removed]",
            "text/plain": [
              "<Figure size 360x360 with 1 Axes>"
            ]
          },
          "metadata": {
            "needs_background": "light"
          },
          "output_type": "display_data"
        },
        {
          "data": {
            "image/png": "[encoded data removed]",
            "text/plain": [
              "<Figure size 576x432 with 1 Axes>"
            ]
          },
          "metadata": {
            "needs_background": "light"
          },
          "output_type": "display_data"
        },
        {
          "name": "stdout",
          "output_type": "stream",
          "text": [
            "no churn:\n",
            "count    134895.000000\n",
            "mean          0.000197\n",
            "std           0.010164\n",
            "min           0.000000\n",
            "5%            0.000000\n",
            "25%           0.000000\n",
            "50%           0.000000\n",
            "75%           0.000000\n",
            "90%           0.000000\n",
            "95%           0.000000\n",
            "99%           0.000000\n",
            "max           0.856408\n",
            "Name: inserted_at, dtype: float64\n"
          ]
        },
        {
          "data": {
            "image/png": "[encoded data removed]",
            "text/plain": [
              "<Figure size 576x432 with 1 Axes>"
            ]
          },
          "metadata": {
            "needs_background": "light"
          },
          "output_type": "display_data"
        },
        {
          "name": "stderr",
          "output_type": "stream",
          "text": [
            "/Users/cloriszhang/opt/anaconda3/lib/python3.9/site-packages/seaborn/_decorators.py:36: FutureWarning: Pass the following variables as keyword args: x, y. From version 0.12, the only valid positional argument will be `data`, and passing other arguments without an explicit keyword will result in an error or misinterpretation.\n",
            "  warnings.warn(\n"
          ]
        },
        {
          "name": "stdout",
          "output_type": "stream",
          "text": [
            "-----------updated_at-----------\n",
            "churn:\n",
            "count    538444.000000\n",
            "mean          0.842085\n",
            "std           0.066762\n",
            "min           0.000000\n",
            "5%            0.835465\n",
            "25%           0.835465\n",
            "50%           0.835465\n",
            "75%           0.860734\n",
            "90%           0.860734\n",
            "95%           0.861679\n",
            "99%           0.912593\n",
            "max           1.000000\n",
            "Name: updated_at, dtype: float64\n"
          ]
        },
        {
          "data": {
            "image/png": "[encoded data removed]",
            "text/plain": [
              "<Figure size 360x360 with 1 Axes>"
            ]
          },
          "metadata": {
            "needs_background": "light"
          },
          "output_type": "display_data"
        },
        {
          "data": {
            "image/png": "[encoded data removed]",
            "text/plain": [
              "<Figure size 576x432 with 1 Axes>"
            ]
          },
          "metadata": {
            "needs_background": "light"
          },
          "output_type": "display_data"
        },
        {
          "name": "stdout",
          "output_type": "stream",
          "text": [
            "no churn:\n",
            "count    134895.000000\n",
            "mean          0.861467\n",
            "std           0.008333\n",
            "min           0.835465\n",
            "5%            0.860734\n",
            "25%           0.860734\n",
            "50%           0.860734\n",
            "75%           0.860734\n",
            "90%           0.860734\n",
            "95%           0.861663\n",
            "99%           0.861746\n",
            "max           1.000000\n",
            "Name: updated_at, dtype: float64\n"
          ]
        },
        {
          "data": {
            "image/png": "[encoded data removed]",
            "text/plain": [
              "<Figure size 576x432 with 1 Axes>"
            ]
          },
          "metadata": {
            "needs_background": "light"
          },
          "output_type": "display_data"
        },
        {
          "name": "stderr",
          "output_type": "stream",
          "text": [
            "/Users/cloriszhang/opt/anaconda3/lib/python3.9/site-packages/seaborn/_decorators.py:36: FutureWarning: Pass the following variables as keyword args: x, y. From version 0.12, the only valid positional argument will be `data`, and passing other arguments without an explicit keyword will result in an error or misinterpretation.\n",
            "  warnings.warn(\n"
          ]
        },
        {
          "name": "stdout",
          "output_type": "stream",
          "text": [
            "-----------retail_last_maintenance_time-----------\n",
            "churn:\n",
            "count    538444.000000\n",
            "mean          0.370335\n",
            "std           0.447699\n",
            "min           0.000000\n",
            "5%            0.000000\n",
            "25%           0.000000\n",
            "50%           0.000000\n",
            "75%           0.905727\n",
            "90%           0.969101\n",
            "95%           0.985633\n",
            "99%           0.997441\n",
            "max           1.000000\n",
            "Name: retail_last_maintenance_time, dtype: float64\n"
          ]
        },
        {
          "data": {
            "image/png": "[encoded data removed]",
            "text/plain": [
              "<Figure size 360x360 with 1 Axes>"
            ]
          },
          "metadata": {
            "needs_background": "light"
          },
          "output_type": "display_data"
        },
        {
          "data": {
            "image/png": "[encoded data removed]",
            "text/plain": [
              "<Figure size 576x432 with 1 Axes>"
            ]
          },
          "metadata": {
            "needs_background": "light"
          },
          "output_type": "display_data"
        },
        {
          "name": "stdout",
          "output_type": "stream",
          "text": [
            "no churn:\n",
            "count    134895.000000\n",
            "mean          0.783667\n",
            "std           0.172420\n",
            "min           0.000000\n",
            "5%            0.392639\n",
            "25%           0.679197\n",
            "50%           0.825034\n",
            "75%           0.920685\n",
            "90%           0.967329\n",
            "95%           0.986223\n",
            "99%           0.997441\n",
            "max           1.000000\n",
            "Name: retail_last_maintenance_time, dtype: float64\n"
          ]
        },
        {
          "data": {
            "image/png": "[encoded data removed]",
            "text/plain": [
              "<Figure size 576x432 with 1 Axes>"
            ]
          },
          "metadata": {
            "needs_background": "light"
          },
          "output_type": "display_data"
        },
        {
          "name": "stderr",
          "output_type": "stream",
          "text": [
            "/Users/cloriszhang/opt/anaconda3/lib/python3.9/site-packages/seaborn/_decorators.py:36: FutureWarning: Pass the following variables as keyword args: x, y. From version 0.12, the only valid positional argument will be `data`, and passing other arguments without an explicit keyword will result in an error or misinterpretation.\n",
            "  warnings.warn(\n"
          ]
        },
        {
          "name": "stdout",
          "output_type": "stream",
          "text": [
            "-----------Low-----------\n",
            "churn:\n",
            "count    538444.000000\n",
            "mean          7.575655\n",
            "std          22.732897\n",
            "min           0.000000\n",
            "5%            0.000000\n",
            "25%           0.000000\n",
            "50%           0.000000\n",
            "75%           0.000000\n",
            "90%          20.000000\n",
            "95%          75.000000\n",
            "99%          99.000000\n",
            "max          99.000000\n",
            "Name: Low, dtype: float64\n"
          ]
        },
        {
          "data": {
            "image/png": "[encoded data removed]",
            "text/plain": [
              "<Figure size 360x360 with 1 Axes>"
            ]
          },
          "metadata": {
            "needs_background": "light"
          },
          "output_type": "display_data"
        },
        {
          "data": {
            "image/png": "[encoded data removed]",
            "text/plain": [
              "<Figure size 576x432 with 1 Axes>"
            ]
          },
          "metadata": {
            "needs_background": "light"
          },
          "output_type": "display_data"
        },
        {
          "name": "stdout",
          "output_type": "stream",
          "text": [
            "no churn:\n",
            "count    134895.000000\n",
            "mean          4.291286\n",
            "std          14.885867\n",
            "min           0.000000\n",
            "5%            0.000000\n",
            "25%           0.000000\n",
            "50%           0.000000\n",
            "75%           0.000000\n",
            "90%          10.000000\n",
            "95%          25.000000\n",
            "99%          99.000000\n",
            "max          99.000000\n",
            "Name: Low, dtype: float64\n"
          ]
        },
        {
          "data": {
            "image/png": "[encoded data removed]",
            "text/plain": [
              "<Figure size 576x432 with 1 Axes>"
            ]
          },
          "metadata": {
            "needs_background": "light"
          },
          "output_type": "display_data"
        },
        {
          "name": "stderr",
          "output_type": "stream",
          "text": [
            "/Users/cloriszhang/opt/anaconda3/lib/python3.9/site-packages/seaborn/_decorators.py:36: FutureWarning: Pass the following variables as keyword args: x, y. From version 0.12, the only valid positional argument will be `data`, and passing other arguments without an explicit keyword will result in an error or misinterpretation.\n",
            "  warnings.warn(\n"
          ]
        },
        {
          "name": "stdout",
          "output_type": "stream",
          "text": [
            "-----------Medium-----------\n",
            "churn:\n",
            "count    538444.000000\n",
            "mean         53.331349\n",
            "std          41.216564\n",
            "min           0.000000\n",
            "5%            0.000000\n",
            "25%           0.000000\n",
            "50%          70.000000\n",
            "75%          90.000000\n",
            "90%          99.000000\n",
            "95%          99.000000\n",
            "99%          99.000000\n",
            "max          99.000000\n",
            "Name: Medium, dtype: float64\n"
          ]
        },
        {
          "data": {
            "image/png": "[encoded data removed]",
            "text/plain": [
              "<Figure size 360x360 with 1 Axes>"
            ]
          },
          "metadata": {
            "needs_background": "light"
          },
          "output_type": "display_data"
        },
        {
          "data": {
            "image/png": "[encoded data removed]",
            "text/plain": [
              "<Figure size 576x432 with 1 Axes>"
            ]
          },
          "metadata": {
            "needs_background": "light"
          },
          "output_type": "display_data"
        },
        {
          "name": "stdout",
          "output_type": "stream",
          "text": [
            "no churn:\n",
            "count    134895.000000\n",
            "mean         60.648920\n",
            "std          38.560118\n",
            "min           0.000000\n",
            "5%            0.000000\n",
            "25%          10.000000\n",
            "50%          75.000000\n",
            "75%          99.000000\n",
            "90%          99.000000\n",
            "95%          99.000000\n",
            "99%          99.000000\n",
            "max          99.000000\n",
            "Name: Medium, dtype: float64\n"
          ]
        },
        {
          "data": {
            "image/png": "[encoded data removed]",
            "text/plain": [
              "<Figure size 576x432 with 1 Axes>"
            ]
          },
          "metadata": {
            "needs_background": "light"
          },
          "output_type": "display_data"
        },
        {
          "name": "stderr",
          "output_type": "stream",
          "text": [
            "/Users/cloriszhang/opt/anaconda3/lib/python3.9/site-packages/seaborn/_decorators.py:36: FutureWarning: Pass the following variables as keyword args: x, y. From version 0.12, the only valid positional argument will be `data`, and passing other arguments without an explicit keyword will result in an error or misinterpretation.\n",
            "  warnings.warn(\n"
          ]
        },
        {
          "name": "stdout",
          "output_type": "stream",
          "text": [
            "-----------High-----------\n",
            "churn:\n",
            "count    538444.000000\n",
            "mean         15.884203\n",
            "std          26.480410\n",
            "min           0.000000\n",
            "5%            0.000000\n",
            "25%           0.000000\n",
            "50%           0.000000\n",
            "75%          20.000000\n",
            "90%          50.000000\n",
            "95%          99.000000\n",
            "99%          99.000000\n",
            "max          99.000000\n",
            "Name: High, dtype: float64\n"
          ]
        },
        {
          "data": {
            "image/png": "[encoded data removed]",
            "text/plain": [
              "<Figure size 360x360 with 1 Axes>"
            ]
          },
          "metadata": {
            "needs_background": "light"
          },
          "output_type": "display_data"
        },
        {
          "data": {
            "image/png": "[encoded data removed]",
            "text/plain": [
              "<Figure size 576x432 with 1 Axes>"
            ]
          },
          "metadata": {
            "needs_background": "light"
          },
          "output_type": "display_data"
        },
        {
          "name": "stdout",
          "output_type": "stream",
          "text": [
            "no churn:\n",
            "count    134895.000000\n",
            "mean         17.146047\n",
            "std          25.826878\n",
            "min           0.000000\n",
            "5%            0.000000\n",
            "25%           0.000000\n",
            "50%           0.000000\n",
            "75%          25.000000\n",
            "90%          50.000000\n",
            "95%          99.000000\n",
            "99%          99.000000\n",
            "max          99.000000\n",
            "Name: High, dtype: float64\n"
          ]
        },
        {
          "data": {
            "image/png": "[encoded data removed]",
            "text/plain": [
              "<Figure size 576x432 with 1 Axes>"
            ]
          },
          "metadata": {
            "needs_background": "light"
          },
          "output_type": "display_data"
        },
        {
          "name": "stderr",
          "output_type": "stream",
          "text": [
            "/Users/cloriszhang/opt/anaconda3/lib/python3.9/site-packages/seaborn/_decorators.py:36: FutureWarning: Pass the following variables as keyword args: x, y. From version 0.12, the only valid positional argument will be `data`, and passing other arguments without an explicit keyword will result in an error or misinterpretation.\n",
            "  warnings.warn(\n"
          ]
        },
        {
          "name": "stdout",
          "output_type": "stream",
          "text": [
            "-----------Income-----------\n",
            "churn:\n",
            "count    538444.000000\n",
            "mean          8.933642\n",
            "std          18.585673\n",
            "min           0.000000\n",
            "5%            0.000000\n",
            "25%           0.000000\n",
            "50%           0.000000\n",
            "75%          10.000000\n",
            "90%          35.000000\n",
            "95%          50.000000\n",
            "99%          99.000000\n",
            "max          99.000000\n",
            "Name: Income, dtype: float64\n"
          ]
        },
        {
          "data": {
            "image/png": "[encoded data removed]",
            "text/plain": [
              "<Figure size 360x360 with 1 Axes>"
            ]
          },
          "metadata": {
            "needs_background": "light"
          },
          "output_type": "display_data"
        },
        {
          "data": {
            "image/png": "[encoded data removed]",
            "text/plain": [
              "<Figure size 576x432 with 1 Axes>"
            ]
          },
          "metadata": {
            "needs_background": "light"
          },
          "output_type": "display_data"
        },
        {
          "name": "stdout",
          "output_type": "stream",
          "text": [
            "no churn:\n",
            "count    134895.000000\n",
            "mean          9.201720\n",
            "std          18.341799\n",
            "min           0.000000\n",
            "5%            0.000000\n",
            "25%           0.000000\n",
            "50%           0.000000\n",
            "75%          10.000000\n",
            "90%          33.000000\n",
            "95%          50.000000\n",
            "99%          99.000000\n",
            "max          99.000000\n",
            "Name: Income, dtype: float64\n"
          ]
        },
        {
          "data": {
            "image/png": "[encoded data removed]",
            "text/plain": [
              "<Figure size 576x432 with 1 Axes>"
            ]
          },
          "metadata": {
            "needs_background": "light"
          },
          "output_type": "display_data"
        },
        {
          "name": "stderr",
          "output_type": "stream",
          "text": [
            "/Users/cloriszhang/opt/anaconda3/lib/python3.9/site-packages/seaborn/_decorators.py:36: FutureWarning: Pass the following variables as keyword args: x, y. From version 0.12, the only valid positional argument will be `data`, and passing other arguments without an explicit keyword will result in an error or misinterpretation.\n",
            "  warnings.warn(\n"
          ]
        },
        {
          "name": "stdout",
          "output_type": "stream",
          "text": [
            "-----------Growth-----------\n",
            "churn:\n",
            "count    538444.000000\n",
            "mean         54.284791\n",
            "std          41.397975\n",
            "min           0.000000\n",
            "5%            0.000000\n",
            "25%           0.000000\n",
            "50%          70.000000\n",
            "75%          99.000000\n",
            "90%          99.000000\n",
            "95%          99.000000\n",
            "99%          99.000000\n",
            "max          99.000000\n",
            "Name: Growth, dtype: float64\n"
          ]
        },
        {
          "data": {
            "image/png": "[encoded data removed]",
            "text/plain": [
              "<Figure size 360x360 with 1 Axes>"
            ]
          },
          "metadata": {
            "needs_background": "light"
          },
          "output_type": "display_data"
        },
        {
          "data": {
            "image/png": "[encoded data removed]",
            "text/plain": [
              "<Figure size 576x432 with 1 Axes>"
            ]
          },
          "metadata": {
            "needs_background": "light"
          },
          "output_type": "display_data"
        },
        {
          "name": "stdout",
          "output_type": "stream",
          "text": [
            "no churn:\n",
            "count    134895.000000\n",
            "mean         59.910820\n",
            "std          38.826025\n",
            "min           0.000000\n",
            "5%            0.000000\n",
            "25%          20.000000\n",
            "50%          70.000000\n",
            "75%          99.000000\n",
            "90%          99.000000\n",
            "95%          99.000000\n",
            "99%          99.000000\n",
            "max          99.000000\n",
            "Name: Growth, dtype: float64\n"
          ]
        },
        {
          "data": {
            "image/png": "[encoded data removed]",
            "text/plain": [
              "<Figure size 576x432 with 1 Axes>"
            ]
          },
          "metadata": {
            "needs_background": "light"
          },
          "output_type": "display_data"
        },
        {
          "name": "stderr",
          "output_type": "stream",
          "text": [
            "/Users/cloriszhang/opt/anaconda3/lib/python3.9/site-packages/seaborn/_decorators.py:36: FutureWarning: Pass the following variables as keyword args: x, y. From version 0.12, the only valid positional argument will be `data`, and passing other arguments without an explicit keyword will result in an error or misinterpretation.\n",
            "  warnings.warn(\n"
          ]
        },
        {
          "name": "stdout",
          "output_type": "stream",
          "text": [
            "-----------Speculative-----------\n",
            "churn:\n",
            "count    538444.000000\n",
            "mean          9.649767\n",
            "std          22.953030\n",
            "min           0.000000\n",
            "5%            0.000000\n",
            "25%           0.000000\n",
            "50%           0.000000\n",
            "75%           5.000000\n",
            "90%          30.000000\n",
            "95%          50.000000\n",
            "99%          99.000000\n",
            "max         100.000000\n",
            "Name: Speculative, dtype: float64\n"
          ]
        },
        {
          "data": {
            "image/png": "[encoded data removed]",
            "text/plain": [
              "<Figure size 360x360 with 1 Axes>"
            ]
          },
          "metadata": {
            "needs_background": "light"
          },
          "output_type": "display_data"
        },
        {
          "data": {
            "image/png": "[encoded data removed]",
            "text/plain": [
              "<Figure size 576x432 with 1 Axes>"
            ]
          },
          "metadata": {
            "needs_background": "light"
          },
          "output_type": "display_data"
        },
        {
          "name": "stdout",
          "output_type": "stream",
          "text": [
            "no churn:\n",
            "count    134895.000000\n",
            "mean         12.089381\n",
            "std          23.422675\n",
            "min           0.000000\n",
            "5%            0.000000\n",
            "25%           0.000000\n",
            "50%           0.000000\n",
            "75%          15.000000\n",
            "90%          50.000000\n",
            "95%          50.000000\n",
            "99%          99.000000\n",
            "max          99.000000\n",
            "Name: Speculative, dtype: float64\n"
          ]
        },
        {
          "data": {
            "image/png": "[encoded data removed]",
            "text/plain": [
              "<Figure size 576x432 with 1 Axes>"
            ]
          },
          "metadata": {
            "needs_background": "light"
          },
          "output_type": "display_data"
        },
        {
          "name": "stderr",
          "output_type": "stream",
          "text": [
            "/Users/cloriszhang/opt/anaconda3/lib/python3.9/site-packages/seaborn/_decorators.py:36: FutureWarning: Pass the following variables as keyword args: x, y. From version 0.12, the only valid positional argument will be `data`, and passing other arguments without an explicit keyword will result in an error or misinterpretation.\n",
            "  warnings.warn(\n"
          ]
        },
        {
          "name": "stdout",
          "output_type": "stream",
          "text": [
            "-----------Medium-High-----------\n",
            "churn:\n",
            "count    538444.0\n",
            "mean          0.0\n",
            "std           0.0\n",
            "min           0.0\n",
            "5%            0.0\n",
            "25%           0.0\n",
            "50%           0.0\n",
            "75%           0.0\n",
            "90%           0.0\n",
            "95%           0.0\n",
            "99%           0.0\n",
            "max           0.0\n",
            "Name: Medium-High, dtype: float64\n"
          ]
        },
        {
          "data": {
            "image/png": "[encoded data removed]",
            "text/plain": [
              "<Figure size 360x360 with 1 Axes>"
            ]
          },
          "metadata": {
            "needs_background": "light"
          },
          "output_type": "display_data"
        },
        {
          "data": {
            "image/png": "[encoded data removed]",
            "text/plain": [
              "<Figure size 576x432 with 1 Axes>"
            ]
          },
          "metadata": {
            "needs_background": "light"
          },
          "output_type": "display_data"
        },
        {
          "name": "stdout",
          "output_type": "stream",
          "text": [
            "no churn:\n",
            "count    134895.0\n",
            "mean          0.0\n",
            "std           0.0\n",
            "min           0.0\n",
            "5%            0.0\n",
            "25%           0.0\n",
            "50%           0.0\n",
            "75%           0.0\n",
            "90%           0.0\n",
            "95%           0.0\n",
            "99%           0.0\n",
            "max           0.0\n",
            "Name: Medium-High, dtype: float64\n"
          ]
        },
        {
          "data": {
            "image/png": "[encoded data removed]",
            "text/plain": [
              "<Figure size 576x432 with 1 Axes>"
            ]
          },
          "metadata": {
            "needs_background": "light"
          },
          "output_type": "display_data"
        },
        {
          "name": "stderr",
          "output_type": "stream",
          "text": [
            "/Users/cloriszhang/opt/anaconda3/lib/python3.9/site-packages/seaborn/_decorators.py:36: FutureWarning: Pass the following variables as keyword args: x, y. From version 0.12, the only valid positional argument will be `data`, and passing other arguments without an explicit keyword will result in an error or misinterpretation.\n",
            "  warnings.warn(\n"
          ]
        },
        {
          "name": "stdout",
          "output_type": "stream",
          "text": [
            "-----------Liquidity-----------\n",
            "churn:\n",
            "count    538444.000000\n",
            "mean          3.910639\n",
            "std          18.869474\n",
            "min           0.000000\n",
            "5%            0.000000\n",
            "25%           0.000000\n",
            "50%           0.000000\n",
            "75%           0.000000\n",
            "90%           0.000000\n",
            "95%           5.000000\n",
            "99%          99.000000\n",
            "max          99.000000\n",
            "Name: Liquidity, dtype: float64\n"
          ]
        },
        {
          "data": {
            "image/png": "[encoded data removed]",
            "text/plain": [
              "<Figure size 360x360 with 1 Axes>"
            ]
          },
          "metadata": {
            "needs_background": "light"
          },
          "output_type": "display_data"
        },
        {
          "data": {
            "image/png": "[encoded data removed]",
            "text/plain": [
              "<Figure size 576x432 with 1 Axes>"
            ]
          },
          "metadata": {
            "needs_background": "light"
          },
          "output_type": "display_data"
        },
        {
          "name": "stdout",
          "output_type": "stream",
          "text": [
            "no churn:\n",
            "count    134895.000000\n",
            "mean          1.313577\n",
            "std           8.750313\n",
            "min           0.000000\n",
            "5%            0.000000\n",
            "25%           0.000000\n",
            "50%           0.000000\n",
            "75%           0.000000\n",
            "90%           0.000000\n",
            "95%           0.000000\n",
            "99%          50.000000\n",
            "max          99.000000\n",
            "Name: Liquidity, dtype: float64\n"
          ]
        },
        {
          "data": {
            "image/png": "[encoded data removed]",
            "text/plain": [
              "<Figure size 576x432 with 1 Axes>"
            ]
          },
          "metadata": {
            "needs_background": "light"
          },
          "output_type": "display_data"
        },
        {
          "name": "stderr",
          "output_type": "stream",
          "text": [
            "/Users/cloriszhang/opt/anaconda3/lib/python3.9/site-packages/seaborn/_decorators.py:36: FutureWarning: Pass the following variables as keyword args: x, y. From version 0.12, the only valid positional argument will be `data`, and passing other arguments without an explicit keyword will result in an error or misinterpretation.\n",
            "  warnings.warn(\n"
          ]
        },
        {
          "name": "stdout",
          "output_type": "stream",
          "text": [
            "-----------Safety-----------\n",
            "churn:\n",
            "count    538444.000000\n",
            "mean          0.004764\n",
            "std           0.535307\n",
            "min           0.000000\n",
            "5%            0.000000\n",
            "25%           0.000000\n",
            "50%           0.000000\n",
            "75%           0.000000\n",
            "90%           0.000000\n",
            "95%           0.000000\n",
            "99%           0.000000\n",
            "max          99.000000\n",
            "Name: Safety, dtype: float64\n"
          ]
        },
        {
          "data": {
            "image/png": "[encoded data removed]",
            "text/plain": [
              "<Figure size 360x360 with 1 Axes>"
            ]
          },
          "metadata": {
            "needs_background": "light"
          },
          "output_type": "display_data"
        },
        {
          "data": {
            "image/png": "[encoded data removed]",
            "text/plain": [
              "<Figure size 576x432 with 1 Axes>"
            ]
          },
          "metadata": {
            "needs_background": "light"
          },
          "output_type": "display_data"
        },
        {
          "name": "stdout",
          "output_type": "stream",
          "text": [
            "no churn:\n",
            "count    134895.000000\n",
            "mean          0.008028\n",
            "std           0.782272\n",
            "min           0.000000\n",
            "5%            0.000000\n",
            "25%           0.000000\n",
            "50%           0.000000\n",
            "75%           0.000000\n",
            "90%           0.000000\n",
            "95%           0.000000\n",
            "99%           0.000000\n",
            "max          99.000000\n",
            "Name: Safety, dtype: float64\n"
          ]
        },
        {
          "data": {
            "image/png": "[encoded data removed]",
            "text/plain": [
              "<Figure size 576x432 with 1 Axes>"
            ]
          },
          "metadata": {
            "needs_background": "light"
          },
          "output_type": "display_data"
        },
        {
          "name": "stderr",
          "output_type": "stream",
          "text": [
            "/Users/cloriszhang/opt/anaconda3/lib/python3.9/site-packages/seaborn/_decorators.py:36: FutureWarning: Pass the following variables as keyword args: x, y. From version 0.12, the only valid positional argument will be `data`, and passing other arguments without an explicit keyword will result in an error or misinterpretation.\n",
            "  warnings.warn(\n"
          ]
        },
        {
          "data": {
            "image/png": "[encoded data removed]",
            "text/plain": [
              "<Figure size 360x360 with 1 Axes>"
            ]
          },
          "metadata": {
            "needs_background": "light"
          },
          "output_type": "display_data"
        }
      ],
      "source": [
        "for col in numeric_variables_ba:\n",
        "    eda_func_num_ba(col)"
      ]
    },
    {
      "cell_type": "code",
      "execution_count": null,
      "metadata": {},
      "outputs": [],
      "source": []
    },
    {
      "cell_type": "code",
      "execution_count": null,
      "metadata": {},
      "outputs": [],
      "source": []
    },
    {
      "cell_type": "code",
      "execution_count": null,
      "metadata": {},
      "outputs": [],
      "source": []
    }
  ],
  "metadata": {
    "colab": {
      "provenance": []
    },
    "kernelspec": {
      "display_name": "Python 3.9.12 ('base')",
      "language": "python",
      "name": "python3"
    },
    "language_info": {
      "codemirror_mode": {
        "name": "ipython",
        "version": 3
      },
      "file_extension": ".py",
      "mimetype": "text/x-python",
      "name": "python",
      "nbconvert_exporter": "python",
      "pygments_lexer": "ipython3",
      "version": "3.9.12"
    },
    "vscode": {
      "interpreter": {
        "hash": "849f7ddc446da409be7214ebf66365e1e6d728f04e53e0ae6d27e621b116d1d7"
      }
    }
  },
  "nbformat": 4,
  "nbformat_minor": 0
}
